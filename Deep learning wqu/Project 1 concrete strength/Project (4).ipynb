{
 "cells": [
  {
   "cell_type": "markdown",
   "id": "a4988411-1f57-467b-8ee7-161d448bd6d7",
   "metadata": {},
   "source": [
    "# Multi-Layer Perceptron (MLP)"
   ]
  },
  {
   "attachments": {},
   "cell_type": "markdown",
   "id": "1fbcb16c",
   "metadata": {},
   "source": [
    "## 1. Why Linear Stacking Alone is Not Enough\n",
    "\n",
    "### Learning Objectives:\n",
    "- Understand what happens when we stack multiple linear transformations\n",
    "- Revisit the core limitation of linear models\n",
    "- Build motivation for using non-linear activation functions\n",
    "\n",
    "### Revisiting Linear Models\n",
    "\n",
    "Recall from earlier notebooks:\n",
    "A **linear model** makes predictions using the rule:\n",
    "\n",
    "$$\n",
    "\\hat{y} = W X + b\n",
    "$$\n",
    "\n",
    "Where:\n",
    "- $X$ is the input feature vector (e.g., size $n \\times d$)\n",
    "- $W$ is a weight matrix\n",
    "- $b$ is a bias term\n",
    "\n",
    "This computes a weighted sum of the input features — a straight line (or hyperplane in higher dimensions).\n",
    "\n",
    "\n",
    "### What Happens If We Stack Linears?\n",
    "\n",
    "Suppose we apply **two linear layers** one after another (no activation in between):\n",
    "\n",
    "$$\n",
    "\\begin{align*}\n",
    "  h &= W_1 X + b_1 \\\\\n",
    "  \\hat{y} &= W_2 h + b_2\n",
    "\\end{align*}\n",
    "$$\n",
    "\n",
    "Substitute $h$ into the second equation:\n",
    "\n",
    "$$\n",
    "\\hat{y} = W_2 (W_1 X + b_1) + b_2 = (W_2 W_1) X + (W_2 b_1 + b_2)\n",
    "$$\n",
    "\n",
    "✅ This is **still a linear transformation** from $X$ to $\\hat{y}$ — we’ve just combined the matrices.\n",
    "\n",
    "\n",
    "### ❗ Key Insight\n",
    "> Stacking multiple linear layers **without activation functions** is equivalent to a **single linear layer**.\n",
    "\n",
    "🔸 No matter how deep the stack goes, the overall transformation is still a **straight line** in input space.\n",
    "\n",
    "🔸 Therefore, such a model **cannot capture nonlinear patterns** — like curves, circles, XOR logic, or real-world physical interactions.\n",
    "\n",
    "\n",
    "### 🧭 Why This Matters\n",
    "This is the main reason we introduce **non-linear activation functions** between layers — to break the linearity and allow our models to capture rich, curved, and complex relationships.\n",
    "\n",
    "➡️ We’ll explore this further in the next sections by revisiting **activation functions** and then **training MLPs** on real data.\n",
    "\n",
    "\n",
    "### 💡 Recap Flow (Schematic):\n",
    "\n",
    "```text\n",
    "X (input features)\n",
    "   ↓ Linear(W1, b1)\n",
    "   h (still linear)\n",
    "   ↓ Linear(W2, b2)\n",
    "   ⇒ Still linear overall\n",
    "```\n",
    "We need something nonlinear in between!\n",
    "\n",
    "---\n"
   ]
  },
  {
   "cell_type": "markdown",
   "id": "2f364340",
   "metadata": {},
   "source": [
    "## 2. What Are Hyperparameters?\n",
    "\n",
    "In deep learning, we train models by adjusting internal weights and biases — these are called **parameters**.  \n",
    "But there’s another kind of setting that **we must choose ourselves before training begins**:  \n",
    "those are called **hyperparameters**.\n",
    "\n",
    "### Definition\n",
    "\n",
    "✅ **Hyperparameters** are configuration values **not learned** from data.  \n",
    "We define them **before training** to control how the model behaves and learns.\n",
    "\n",
    "These choices greatly affect:\n",
    "- How fast the model learns 🐢⚡\n",
    "- Whether it overfits or underfits the data 🎯\n",
    "- How well it generalizes to new data 🌍\n",
    "\n",
    "### Common Hyperparameters (Cheat Sheet)\n",
    "\n",
    "| Hyperparameter             | What It Controls                                      | Typical Values      |\n",
    "|----------------------------|--------------------------------------------------------|---------------------|\n",
    "| **Learning Rate** (`lr`)  | How big a step we take to update weights               | 0.001 to 0.1        |\n",
    "| **Number of Epochs**       | How many times we loop through the training set        | 100, 300, 1000+     |\n",
    "| **Hidden Layer Size**      | How many neurons in each hidden layer                  | 16, 32, 64, ...     |\n",
    "| **Number of Hidden Layers**| Depth of the network (1 layer? 2? more?)               | 1–3 (or more)       |\n",
    "| **Batch Size**             | How many samples we use to compute gradients           | 16, 32, 64, 128     |\n",
    "| **Activation Function**    | The non-linearity we apply (ReLU, Tanh, Sigmoid, etc.) | ReLU (common)       |\n",
    "| **Optimizer**              | Algorithm for adjusting parameters                     | SGD, Adam, RMSprop  |\n",
    "\n",
    "> ✅ These are like \"knobs\" we turn to tune our learning system.\n",
    "\n",
    "\n",
    "### Why Do Hyperparameters Matter?\n",
    "\n",
    "Even a great model architecture can perform poorly if the hyperparameters are poorly chosen.\n",
    "\n",
    "- Too large a learning rate? ❌ Model never converges.\n",
    "- Too few epochs? ❌ Model underfits.\n",
    "- Too small hidden layer? ❌ Can’t capture patterns.\n",
    "- Wrong activation? ❌ Poor gradient flow.\n",
    "\n",
    "✅ Good hyperparameters make the **same model perform much better.**\n",
    "\n",
    "Now that we know how important hyperparameters are,  \n",
    "let’s build an actual MLP (Multi-Layer Perceptron) —  \n",
    "first using PyTorch’s quick `nn.Sequential`, and then with a custom class using `nn.Module`.\n",
    "\n",
    "---\n"
   ]
  },
  {
   "cell_type": "markdown",
   "id": "5757e0f0-f219-4d8e-9d16-21b070dbb9be",
   "metadata": {},
   "source": [
    "## 3. Building a Multi-Layer Perceptron (MLP) Using `nn.Sequential`"
   ]
  },
  {
   "cell_type": "code",
   "execution_count": null,
   "id": "4e912485-24dc-48c3-901d-fe7475fab852",
   "metadata": {},
   "outputs": [],
   "source": [
    "from IPython.display import VimeoVideo\n",
    "\n",
    "VimeoVideo(\"1105140908\", h=\"3298dbabb7\", width=700, height=450)"
   ]
  },
  {
   "cell_type": "markdown",
   "id": "d0e1b1cc",
   "metadata": {},
   "source": [
    "Now that we understand the role of **activation functions** and **hyperparameters**,  \n",
    "let’s start building real neural networks — starting with a classic: the **MLP**.\n",
    "\n",
    "\n",
    "### What is a Multi-Layer Perceptron (MLP)?\n",
    "\n",
    "An **MLP** is a type of neural network with:\n",
    "\n",
    "- One or more **hidden layers**\n",
    "- Each layer performs a **linear transformation** followed by a **non-linear activation**\n",
    "- A final **output layer** makes predictions\n",
    "\n",
    "\n",
    "### Structure (for regression):"
   ]
  },
  {
   "cell_type": "markdown",
   "id": "37ea5383",
   "metadata": {},
   "source": [
    "### 🧠 Simple Neural Network Architecture\n",
    "\n",
    "**Inputs** (8 features from dataset)  \n",
    "⬇️  \n",
    "**Linear Layer** (8 → 16)  \n",
    "⬇️  \n",
    "**ReLU Activation**  \n",
    "⬇️  \n",
    "**Linear Layer** (16 → 1)  \n",
    "⬇️  \n",
    "**Output:** Predicted concrete strength\n"
   ]
  },
  {
   "cell_type": "markdown",
   "id": "73f404ff",
   "metadata": {},
   "source": [
    "\n",
    "Mathematically:\n",
    "\n",
    "\n",
    "\\begin{aligned}\n",
    "h &= \\text{ReLU}(W_1 X + b_1) \\\\\n",
    "\\hat{y} &= W_2 h + b_2\n",
    "\\end{aligned}\n",
    "\n",
    "\n",
    "✅ This combination of linear + non-linear steps enables the model to **learn complex patterns**.\n",
    "\n",
    "\n",
    "### PyTorch Tool: `nn.Sequential`\n",
    "\n",
    "We’ll use `nn.Sequential` — a convenient PyTorch container to **stack layers** in order.\n",
    "\n",
    "```python\n",
    "import torch.nn as nn\n",
    "\n",
    "model = nn.Sequential(\n",
    "    nn.Linear(input_size, hidden_size),  # Layer 1\n",
    "    nn.ReLU(),                           # Activation\n",
    "    nn.Linear(hidden_size, output_size)  # Output layer\n",
    ")\n",
    "```\n"
   ]
  },
  {
   "cell_type": "code",
   "execution_count": 1,
   "id": "246e5a34-04f2-4c43-8225-89a15e5fc6ee",
   "metadata": {
    "scrolled": true
   },
   "outputs": [
    {
     "data": {
      "text/html": [
       "\n",
       "        <iframe\n",
       "            width=\"700\"\n",
       "            height=\"450\"\n",
       "            src=\"https://player.vimeo.com/video/1093745827?h=3298dbabb7\"\n",
       "            frameborder=\"0\"\n",
       "            allowfullscreen\n",
       "            \n",
       "        ></iframe>\n",
       "        "
      ],
      "text/plain": [
       "<IPython.lib.display.VimeoVideo at 0x78f85a774350>"
      ]
     },
     "execution_count": 1,
     "metadata": {},
     "output_type": "execute_result"
    }
   ],
   "source": [
    "from IPython.display import VimeoVideo\n",
    "\n",
    "VimeoVideo(\"1093745827\", h=\"3298dbabb7\", width=700, height=450)"
   ]
  },
  {
   "cell_type": "markdown",
   "id": "f70afb91",
   "metadata": {},
   "source": [
    "### Explanation:\n",
    "\n",
    "- `nn.Linear(a, b)`: Linear layer mapping from **a-dimensional input** to **b-dimensional output**  \n",
    "- `nn.ReLU()`: Applies the **ReLU activation function** element-wise:  \n",
    "  $$\n",
    "  \\text{ReLU}(x) = \\max(0, x)\n",
    "  $$\n",
    "\n",
    "\n",
    "### Code Demo: Simple MLP for Concrete Dataset\n",
    "\n",
    "We’ll build a simple **Multi-Layer Perceptron (MLP)** with:\n",
    "\n",
    "- **Input size** = 8 features  \n",
    "- **Hidden size** = 16 neurons  \n",
    "- **Output size** = 1 value (predicted strength)\n"
   ]
  },
  {
   "cell_type": "code",
   "execution_count": 2,
   "id": "fd4de3af",
   "metadata": {},
   "outputs": [
    {
     "name": "stdout",
     "output_type": "stream",
     "text": [
      "Sequential(\n",
      "  (0): Linear(in_features=8, out_features=16, bias=True)\n",
      "  (1): ReLU()\n",
      "  (2): Linear(in_features=16, out_features=1, bias=True)\n",
      ")\n"
     ]
    }
   ],
   "source": [
    "import torch\n",
    "import torch.nn as nn\n",
    "\n",
    "input_size = 8\n",
    "hidden_size = 16\n",
    "output_size = 1\n",
    "\n",
    "simple_mlp = nn.Sequential(\n",
    "    nn.Linear(input_size, hidden_size),\n",
    "    nn.ReLU(),\n",
    "    nn.Linear(hidden_size, output_size)\n",
    ")\n",
    "\n",
    "print(simple_mlp)\n"
   ]
  },
  {
   "cell_type": "markdown",
   "id": "11b9e436-d869-40d6-b169-2b34912ab73d",
   "metadata": {},
   "source": [
    "### '., nbbbnnnnnnbgv'✅ Code Task 1.4.3.1 – Build a Two-Layer MLP Using `nn.Sequential`\n",
    "\n",
    "Your task is to build a simple feedforward neural network using `torch.nn.Sequential`.\n",
    "\n",
    "You must:\n",
    "\n",
    "1. Define the following architecture dimensions:\n",
    "   - `input_size = 10`\n",
    "   - `hidden_size = 20`\n",
    "   - `output_size = 2`\n",
    "\n",
    "2. Create a model named `my_mlp` with the following structure:\n",
    "   - A linear layer that maps from input to hidden  \n",
    "   - A **ReLU** activation function  \n",
    "   - A linear layer that maps from hidden to output  \n",
    "\n",
    "3. Use `nn.Sequential(...)` to define the model.\n",
    "\n",
    "4. Print the model using `print(my_mlp)` to verify the structure.\n",
    "\n",
    "✅ Make sure to name your model `my_mlp` and follow the exact layer order.\n"
   ]
  },
  {
   "cell_type": "code",
   "execution_count": 6,
   "id": "a2b2930d-c539-4e70-86fd-ed465bd58d6a",
   "metadata": {},
   "outputs": [
    {
     "name": "stdout",
     "output_type": "stream",
     "text": [
      "Sequential(\n",
      "  (0): Linear(in_features=10, out_features=20, bias=True)\n",
      "  (1): ReLU()\n",
      "  (2): Linear(in_features=20, out_features=2, bias=True)\n",
      ")\n"
     ]
    }
   ],
   "source": [
    "# Step 2: Define dimensions\n",
    "input_size =10\n",
    "hidden_size = 20\n",
    "output_size = 2\n",
    "\n",
    "# Step 3: Build the MLP using nn.Sequential\n",
    "# It should follow: Linear(input → hidden) → ReLU → Linear(hidden → output)\n",
    "my_mlp = nn.Sequential(\n",
    "    \n",
    "    nn.Linear(input_size,hidden_size), # Layer 1: Linear from input to hidden\n",
    "    nn.ReLU(), # Layer 2: ReLU activation\n",
    "    nn.Linear(hidden_size,output_size)  # Layer 3: Linear from hidden to output\n",
    ")\n",
    "\n",
    "# Step 4: Print the model to confirm its structure\n",
    "print(my_mlp)"
   ]
  },
  {
   "cell_type": "markdown",
   "id": "4fb3904a",
   "metadata": {},
   "source": [
    "---"
   ]
  },
  {
   "cell_type": "markdown",
   "id": "3236d3fd",
   "metadata": {},
   "source": [
    "## 4. Building a Custom MLP using `nn.Module`\n",
    "\n",
    "### Why Use a Custom Class for an MLP?\n",
    "\n",
    "While `nn.Sequential` is a great shortcut for prototyping models, in most real-world scenarios we define our models using **custom classes**. This provides:\n",
    "\n",
    "- Greater flexibility and control over architecture  \n",
    "- Easier debugging and extension  \n",
    "- More expressive forward passes\n",
    "\n",
    "### 🔍 What's the Structure of a Custom Neural Network?\n",
    "\n",
    "In PyTorch, we define a model by creating a class that:\n",
    "\n",
    "- Inherits from `nn.Module`  \n",
    "- Defines the layers in the `__init__()` method  \n",
    "- Describes the forward pass in a `forward()` method\n",
    "\n",
    "Basic structure:\n",
    "\n",
    "```python\n",
    "class MyModel(nn.Module):\n",
    "    def __init__(self):\n",
    "        super().__init__()\n",
    "        # define layers\n",
    "\n",
    "    def forward(self, x):\n",
    "        # apply layers to input x\n",
    "        return output\n",
    "```\n",
    "\n",
    "Let’s see how this works using a concrete example.\n",
    "\n",
    "\n",
    "### Basic MLP Using Custom Class (1 Hidden Layer)\n",
    "\n",
    "We’ll define a model with:\n",
    "\n",
    "- 8 input features (Concrete dataset)  \n",
    "- 1 hidden layer with **16 neurons** and **ReLU activation**  \n",
    "- 1 output neuron for **regression**\n",
    "\n",
    "🖥️ **Code Cell:** Simple MLP with One Hidden Layer\n"
   ]
  },
  {
   "cell_type": "code",
   "execution_count": 7,
   "id": "9f0bb845-cbb0-4c4d-97e8-4992447b1452",
   "metadata": {},
   "outputs": [
    {
     "data": {
      "text/html": [
       "\n",
       "        <iframe\n",
       "            width=\"600\"\n",
       "            height=\"300\"\n",
       "            src=\"https://player.vimeo.com/video/1105140969?h=3298dbabb7\"\n",
       "            frameborder=\"0\"\n",
       "            allowfullscreen\n",
       "            \n",
       "        ></iframe>\n",
       "        "
      ],
      "text/plain": [
       "<IPython.lib.display.VimeoVideo at 0x78f82952c550>"
      ]
     },
     "execution_count": 7,
     "metadata": {},
     "output_type": "execute_result"
    }
   ],
   "source": [
    "from IPython.display import VimeoVideo\n",
    "\n",
    "VimeoVideo(\"1105140969\", h=\"3298dbabb7\", width=600)"
   ]
  },
  {
   "cell_type": "code",
   "execution_count": 8,
   "id": "6595e8b0",
   "metadata": {},
   "outputs": [
    {
     "name": "stdout",
     "output_type": "stream",
     "text": [
      "ConcreteMLP(\n",
      "  (fc1): Linear(in_features=8, out_features=16, bias=True)\n",
      "  (relu): ReLU()\n",
      "  (fc2): Linear(in_features=16, out_features=1, bias=True)\n",
      ")\n"
     ]
    }
   ],
   "source": [
    "import torch\n",
    "import torch.nn as nn\n",
    "\n",
    "# Custom MLP class for regression\n",
    "class ConcreteMLP(nn.Module):\n",
    "    def __init__(self, input_size=8, hidden_size=16, output_size=1):\n",
    "        super(ConcreteMLP, self).__init__()\n",
    "        \n",
    "        self.fc1 = nn.Linear(input_size, hidden_size)  # First hidden layer\n",
    "        self.relu = nn.ReLU()                          # Activation\n",
    "        self.fc2 = nn.Linear(hidden_size, output_size) # Output layer\n",
    "    \n",
    "    def forward(self, x):\n",
    "        x = self.fc1(x)   # Apply first linear layer\n",
    "        x = self.relu(x)  # Apply ReLU activation\n",
    "        x = self.fc2(x)   # Apply output layer\n",
    "        return x\n",
    "\n",
    "# Create model instance\n",
    "model = ConcreteMLP()\n",
    "print(model)\n"
   ]
  },
  {
   "cell_type": "markdown",
   "id": "02ca5f96",
   "metadata": {},
   "source": [
    "### Extending the Model: Two Hidden Layers\n",
    "\n",
    "To increase the **representational power** of our MLP, we can add another **hidden layer**.  \n",
    "This adds **depth** and helps the model learn more **complex relationships**.\n",
    "\n",
    "\n",
    "Here's how the extended architecture looks:\n"
   ]
  },
  {
   "cell_type": "markdown",
   "id": "49687632",
   "metadata": {},
   "source": [
    "Input (8)  \n",
    "↓  \n",
    "Linear (8 → 32)  \n",
    "↓  \n",
    "ReLU  \n",
    "↓  \n",
    "Linear (32 → 16)  \n",
    "↓  \n",
    "ReLU  \n",
    "↓  \n",
    "Linear (16 → 1)  \n",
    "↓  \n",
    "Output (Concrete Strength)\n"
   ]
  },
  {
   "cell_type": "markdown",
   "id": "81348a36",
   "metadata": {},
   "source": [
    "🖥️ MLP with Two Hidden Layers"
   ]
  },
  {
   "cell_type": "code",
   "execution_count": 9,
   "id": "7de2c656",
   "metadata": {},
   "outputs": [
    {
     "name": "stdout",
     "output_type": "stream",
     "text": [
      "DeeperConcreteMLP(\n",
      "  (fc1): Linear(in_features=8, out_features=32, bias=True)\n",
      "  (relu1): ReLU()\n",
      "  (fc2): Linear(in_features=32, out_features=16, bias=True)\n",
      "  (relu2): ReLU()\n",
      "  (fc3): Linear(in_features=16, out_features=1, bias=True)\n",
      ")\n"
     ]
    }
   ],
   "source": [
    "class DeeperConcreteMLP(nn.Module):\n",
    "    def __init__(self):\n",
    "        super(DeeperConcreteMLP, self).__init__()\n",
    "        \n",
    "        self.fc1 = nn.Linear(8, 32)   # First hidden layer\n",
    "        self.relu1 = nn.ReLU()\n",
    "        self.fc2 = nn.Linear(32, 16)  # Second hidden layer\n",
    "        self.relu2 = nn.ReLU()\n",
    "        self.fc3 = nn.Linear(16, 1)   # Output layer\n",
    "    \n",
    "    def forward(self, x):\n",
    "        x = self.fc1(x)\n",
    "        x = self.relu1(x)\n",
    "        x = self.fc2(x)\n",
    "        x = self.relu2(x)\n",
    "        x = self.fc3(x)\n",
    "        return x\n",
    "\n",
    "# Create and print model\n",
    "deep_model = DeeperConcreteMLP()\n",
    "print(deep_model)\n"
   ]
  },
  {
   "cell_type": "markdown",
   "id": "f10afea0",
   "metadata": {},
   "source": [
    "✅ Key Takeaways\n",
    "\n",
    "- Defining models as Python classes gives us flexibility.\n",
    "\n",
    "- We can control layer connectivity, reuse components, and extend logic.\n",
    "\n",
    "- We'll use this custom MLP when training on the Concrete dataset in upcoming sections.\n",
    "\n",
    "---"
   ]
  },
  {
   "cell_type": "markdown",
   "id": "933fa787-4b7c-4a98-9ee6-14e60890cfae",
   "metadata": {},
   "source": [
    "### ✅ Code Task 1.4.4.1 – Build a Custom Deep MLP Using `nn.Module`\n",
    "\n",
    "Your task is to define a deep neural network using PyTorch’s object-oriented approach (`nn.Module`).\n",
    "\n",
    "You must:\n",
    "\n",
    "1. Create a class named `CustomMLPModel` that inherits from `nn.Module`.\n",
    "\n",
    "2. Inside the `__init__` method, define the following architecture:\n",
    "   - A linear layer from 6 input features to 24 hidden units  \n",
    "   - A ReLU activation  \n",
    "   - A second linear layer from 24 to 12 hidden units  \n",
    "   - Another ReLU activation  \n",
    "   - A final linear layer from 12 to 1 output\n",
    "\n",
    "3. Implement the `forward(self, x)` method to pass the input through each layer in the correct order.\n",
    "\n",
    "4. Instantiate the model and assign it to a variable named `custom_model`.\n",
    "\n",
    "5. Print the model to verify the structure.\n",
    "\n",
    "✅ Make sure the layer dimensions and naming are exactly as specified above."
   ]
  },
  {
   "cell_type": "code",
   "execution_count": 11,
   "id": "40a2a9c2-1ba5-4a0d-973f-45ba3d07ed09",
   "metadata": {},
   "outputs": [
    {
     "name": "stdout",
     "output_type": "stream",
     "text": [
      "CustomMLPModel(\n",
      "  (fc1): Linear(in_features=6, out_features=24, bias=True)\n",
      "  (relu1): ReLU()\n",
      "  (fc2): Linear(in_features=24, out_features=12, bias=True)\n",
      "  (relu2): ReLU()\n",
      "  (fc3): Linear(in_features=12, out_features=1, bias=True)\n",
      ")\n"
     ]
    }
   ],
   "source": [
    "# Step 1: Define the model class\n",
    "class CustomMLPModel(nn.Module):\n",
    "    def __init__(self):\n",
    "        super(CustomMLPModel, self).__init__()\n",
    "        \n",
    "        # Define the layers\n",
    "        self.fc1 =nn.Linear(6,24)   # Input layer → 24 hidden units\n",
    "        self.relu1 =nn.ReLU()      # First activation\n",
    "        self.fc2 =nn.Linear(24,12) # Second hidden layer\n",
    "        self.relu2 =nn.ReLU()            # Second activation\n",
    "        self.fc3 =nn.Linear(12,1)  # Output layer → 1 unit\n",
    "\n",
    "    # Step 2: Define the forward pass\n",
    "    def forward(self, x):\n",
    "        x =self.fc1\n",
    "        x =self.relu1\n",
    "        x =self.fc2\n",
    "        x =self.relu2\n",
    "        x =self.fc3\n",
    "        return x\n",
    "\n",
    "# Step 3: Instantiate and print the model\n",
    "custom_model = CustomMLPModel()\n",
    "print(custom_model)"
   ]
  },
  {
   "cell_type": "markdown",
   "id": "f9ed93e2",
   "metadata": {},
   "source": [
    "## 5. Preparing the Concrete Dataset\n",
    "\n",
    "### Overview: Why Data Preparation Matters\n",
    "\n",
    "Before we train our neural network, we must carefully prepare the dataset. Good data preparation improves learning efficiency and model performance. This process includes:\n",
    "\n",
    "- Loading the dataset\n",
    "- Separating inputs and targets\n",
    "- **Standardizing** the inputs (important!)\n",
    "- Splitting into training and testing sets\n",
    "\n",
    "We'll work with the **Concrete Compressive Strength** dataset — a real-world regression dataset.\n",
    "\n",
    "\n",
    "### 🔹 What Is Standardization and Why Do We Need It?\n",
    "\n",
    "In this dataset:\n",
    "- Some features (e.g., cement) can be over 500\n",
    "- Others (e.g., superplasticizer) are often less than 10\n",
    "\n",
    "These differing **scales** can cause problems during training:\n",
    "- Gradients may become unstable\n",
    "- The optimizer may struggle to converge\n",
    "\n",
    "To solve this, we apply **standardization**:\n",
    "\n",
    "$$\n",
    "X_{\\text{standardized}} = \\frac{X - \\mu}{\\sigma}\n",
    "$$\n",
    "\n",
    "Where:\n",
    "- $\\mu$ = mean of the feature\n",
    "- $\\sigma$ = standard deviation\n",
    "\n",
    "This transforms each feature to have:\n",
    "- Mean = 0\n",
    "- Standard deviation = 1\n",
    "\n",
    "\n",
    "### 🔹 Train/Test Split\n",
    "\n",
    "To evaluate how well the model generalizes to **unseen data**, we split the data:\n",
    "\n",
    "- **Training Set (80%)**: Model learns from this\n",
    "- **Test Set (20%)**: Model is evaluated here\n",
    "\n",
    "We shuffle before splitting to avoid bias.\n",
    "\n",
    "\n",
    "### 🖥️ Code: Prepare the Concrete Dataset"
   ]
  },
  {
   "cell_type": "code",
   "execution_count": 14,
   "id": "66d457da-f5fd-4c46-a290-17a57cbf5d10",
   "metadata": {},
   "outputs": [
    {
     "data": {
      "text/html": [
       "\n",
       "        <iframe\n",
       "            width=\"700\"\n",
       "            height=\"450\"\n",
       "            src=\"https://player.vimeo.com/video/1105140416?h=3298dbabb7\"\n",
       "            frameborder=\"0\"\n",
       "            allowfullscreen\n",
       "            \n",
       "        ></iframe>\n",
       "        "
      ],
      "text/plain": [
       "<IPython.lib.display.VimeoVideo at 0x78f829204f90>"
      ]
     },
     "execution_count": 14,
     "metadata": {},
     "output_type": "execute_result"
    }
   ],
   "source": [
    "from IPython.display import VimeoVideo\n",
    "\n",
    "VimeoVideo(\"1105140416\", h=\"3298dbabb7\", width=700, height=450)"
   ]
  },
  {
   "cell_type": "code",
   "execution_count": 15,
   "id": "01b4676d",
   "metadata": {},
   "outputs": [
    {
     "name": "stdout",
     "output_type": "stream",
     "text": [
      "Training samples: 824\n",
      "Testing samples: 206\n"
     ]
    }
   ],
   "source": [
    "import pandas as pd\n",
    "import torch\n",
    "from sklearn.preprocessing import StandardScaler\n",
    "\n",
    "# Load the Concrete dataset\n",
    "data = pd.read_csv(\"Concrete_Data.csv\")\n",
    "\n",
    "# Separate features and target\n",
    "X = data.iloc[:, :-1].values  # First 8 columns\n",
    "y = data.iloc[:, -1].values.reshape(-1, 1)  # Last column (strength)\n",
    "\n",
    "# Standardize inputs\n",
    "scaler = StandardScaler()\n",
    "X_scaled = scaler.fit_transform(X)\n",
    "\n",
    "# Convert to PyTorch tensors\n",
    "X_tensor = torch.tensor(X_scaled, dtype=torch.float32)\n",
    "y_tensor = torch.tensor(y, dtype=torch.float32)\n",
    "\n",
    "# Set seed and shuffle\n",
    "torch.manual_seed(42)\n",
    "num_samples = X_tensor.shape[0]\n",
    "indices = torch.randperm(num_samples)\n",
    "\n",
    "# 80/20 split\n",
    "split_idx = int(0.8 * num_samples)\n",
    "train_idx = indices[:split_idx]\n",
    "test_idx = indices[split_idx:]\n",
    "\n",
    "# Create splits\n",
    "X_train = X_tensor[train_idx]\n",
    "y_train = y_tensor[train_idx]\n",
    "X_test = X_tensor[test_idx]\n",
    "y_test = y_tensor[test_idx]\n",
    "\n",
    "# Print shapes\n",
    "print(\"Training samples:\", X_train.shape[0])\n",
    "print(\"Testing samples:\", X_test.shape[0])"
   ]
  },
  {
   "cell_type": "markdown",
   "id": "f5155032",
   "metadata": {},
   "source": [
    "\n",
    "### 🔹 Summary of Preparation Steps\n",
    "\n",
    "| Step              | Action                          |\n",
    "|------------------|----------------------------------|\n",
    "| Load             | CSV with 8 features + target     |\n",
    "| Separate         | Inputs (X) and output (y)        |\n",
    "| Standardize      | Use sklearn StandardScaler       |\n",
    "| Tensor conversion| For PyTorch training             |\n",
    "| Shuffle & split  | 80% training / 20% testing       |\n",
    "\n",
    "We are now ready to **train the model**!\n",
    "\n",
    "---"
   ]
  },
  {
   "cell_type": "markdown",
   "id": "5c229e64-137a-47da-a27e-e5c829d2290f",
   "metadata": {},
   "source": [
    "## 6. Training the MLP Model"
   ]
  },
  {
   "cell_type": "markdown",
   "id": "becbea7c",
   "metadata": {},
   "source": [
    "### The Training Pipeline — Step-by-Step\n",
    "\n",
    "Once we have our data and model ready, we move to the **core engine** of deep learning: training.\n",
    "\n",
    "### What Does Training Involve?\n",
    "\n",
    "Each epoch (a full pass over training data) performs the following:\n",
    "\n",
    "1. **Forward Pass** – The model makes predictions for the training inputs.\n",
    "2. **Loss Computation** – The model compares predictions to ground truth and calculates error.\n",
    "3. **Backward Pass** – The gradients of the loss with respect to model parameters are computed.\n",
    "4. **Optimization Step** – Parameters are updated to reduce the loss.\n",
    "5. **Zeroing Gradients** – Gradients from the previous step are cleared (crucial in PyTorch).\n",
    "\n",
    "This is repeated across **many epochs**, so the model gradually learns.\n",
    "\n",
    "### 🧠 Conceptual Flow\n",
    "\n",
    "```text\n",
    "X_train \n",
    "   ↓\n",
    "Forward Pass  →  Compute Predictions \\hat{y}\n",
    "   ↓\n",
    "Loss Function →  Compare (\\hat{y}, y_train)\n",
    "   ↓\n",
    "Backward Pass →  Compute Gradients\n",
    "   ↓\n",
    "Optimizer Step →  Update Weights\n",
    "   ↓\n",
    "Zero Gradients  →  Prepare for next epoch\n",
    "```\n",
    "\n",
    "\n",
    "### Code: Setup Loss and Optimizer\n",
    "\n",
    "We’ll use:\n",
    "- `nn.MSELoss()` — Mean Squared Error Loss\n",
    "- `torch.optim.Adam()` — A popular adaptive optimizer"
   ]
  },
  {
   "cell_type": "code",
   "execution_count": 16,
   "id": "08b2784a",
   "metadata": {},
   "outputs": [
    {
     "name": "stdout",
     "output_type": "stream",
     "text": [
      "ConcreteMLP(\n",
      "  (fc1): Linear(in_features=8, out_features=16, bias=True)\n",
      "  (relu): ReLU()\n",
      "  (fc2): Linear(in_features=16, out_features=1, bias=True)\n",
      ")\n",
      "Adam (\n",
      "Parameter Group 0\n",
      "    amsgrad: False\n",
      "    betas: (0.9, 0.999)\n",
      "    capturable: False\n",
      "    decoupled_weight_decay: False\n",
      "    differentiable: False\n",
      "    eps: 1e-08\n",
      "    foreach: None\n",
      "    fused: None\n",
      "    lr: 0.01\n",
      "    maximize: False\n",
      "    weight_decay: 0\n",
      ")\n"
     ]
    }
   ],
   "source": [
    "import torch.nn as nn\n",
    "import torch.optim as optim\n",
    "\n",
    "# Instantiate the model\n",
    "model = ConcreteMLP()\n",
    "\n",
    "# Define the loss function\n",
    "loss_fn = nn.MSELoss()\n",
    "\n",
    "# Define the optimizer\n",
    "optimizer = optim.Adam(model.parameters(), lr=0.01)\n",
    "\n",
    "print(model)\n",
    "print(optimizer)"
   ]
  },
  {
   "cell_type": "markdown",
   "id": "62c938e2",
   "metadata": {},
   "source": [
    "###  Writing the Training Loop\n",
    "\n",
    "We now implement the full training pipeline.\n",
    "We will:\n",
    "- Train the model for 300 epochs\n",
    "- Print the loss every 50 epochs\n",
    "- Track the loss over time for visualization in Section 7"
   ]
  },
  {
   "cell_type": "code",
   "execution_count": 17,
   "id": "ce673d62",
   "metadata": {},
   "outputs": [
    {
     "name": "stdout",
     "output_type": "stream",
     "text": [
      "Epoch [50/300], Loss: 846.4660\n",
      "Epoch [100/300], Loss: 219.5669\n",
      "Epoch [150/300], Loss: 163.2395\n",
      "Epoch [200/300], Loss: 140.0677\n",
      "Epoch [250/300], Loss: 130.9562\n",
      "Epoch [300/300], Loss: 123.8815\n"
     ]
    }
   ],
   "source": [
    "# Number of training epochs\n",
    "num_epochs = 300\n",
    "\n",
    "# List to store loss values per epoch\n",
    "train_losses = []\n",
    "\n",
    "# Training loop\n",
    "for epoch in range(num_epochs):\n",
    "    # ===== Forward Pass =====\n",
    "    y_pred = model(X_train)\n",
    "\n",
    "    # ===== Compute Loss =====\n",
    "    loss = loss_fn(y_pred, y_train)\n",
    "\n",
    "    # ===== Backward Pass =====\n",
    "    loss.backward()\n",
    "\n",
    "    # ===== Optimizer Step =====\n",
    "    optimizer.step()\n",
    "\n",
    "    # ===== Zero Gradients =====\n",
    "    optimizer.zero_grad()\n",
    "\n",
    "    # ===== Record Loss =====\n",
    "    train_losses.append(loss.item())\n",
    "\n",
    "    # ===== Print Occasionally =====\n",
    "    if (epoch + 1) % 50 == 0:\n",
    "        print(f\"Epoch [{epoch+1}/{num_epochs}], Loss: {loss.item():.4f}\")"
   ]
  },
  {
   "cell_type": "markdown",
   "id": "ed7d997c",
   "metadata": {},
   "source": [
    "### ✅ Summary: What We've Built\n",
    "\n",
    "| Step               | Function                           |\n",
    "|--------------------|------------------------------------|\n",
    "| Loss Function      | Measures prediction error          |\n",
    "| Optimizer          | Updates model weights              |\n",
    "| Training Loop      | Runs the training process          |\n",
    "| Epochs             | Controls training duration         |\n",
    "| Zeroing Gradients  | Prevents gradient accumulation     |\n",
    "\n",
    "This setup forms the **foundation of any neural network training** in PyTorch — scalable from toy models to industrial-scale networks.\n",
    "\n",
    "➡️ In the next section, we’ll **visualize the loss curve** to verify our model is actually learning.\n",
    "\n",
    "---"
   ]
  },
  {
   "cell_type": "markdown",
   "id": "2024d2eb",
   "metadata": {},
   "source": [
    "## 7. Visualizing Training Loss\n",
    "\n",
    "### Why Visualize the Loss?\n",
    "\n",
    "Once our model has been trained, it’s essential to **visualize how the loss changed over time**. This provides insight into how well the model is learning.\n",
    "\n",
    "\n",
    "### 🔍 What can the loss curve tell us?\n",
    "\n",
    "| Pattern in Loss Curve         | Interpretation                          |\n",
    "|------------------------------|------------------------------------------|\n",
    "| Decreasing smoothly          | ✅ Model is learning properly             |\n",
    "| Flat or constant             | ⚠️ Might not be learning at all           |\n",
    "| Increasing                   | ❌ Something is wrong (learning rate too high?) |\n",
    "| Noisy and erratic            | ⚠️ Could be unstable training              |\n",
    "\n",
    "A smooth downward curve suggests the model is improving. A bumpy or flat curve might require us to revise the learning rate or model structure.\n",
    "\n",
    "### 🧠 Mental Schematic: How We Got Here\n",
    "\n",
    "```text\n",
    "X_train ──▶ MLP Model ──▶ Predictions (ŷ) ──▶ Compare with y_train ──▶ Compute Loss (MSE)\n",
    "                                     ▲                                       │\n",
    "                                     │                                       ▼\n",
    "                      Update Weights using Optimizer ◀── Backpropagation ◀── .backward()\n",
    "```\n",
    "\n",
    "Over many epochs, this loop should drive the loss **down**.\n",
    "\n",
    "Let’s visualize this now.\n",
    "\n",
    "\n",
    "### Plotting the Loss Curve"
   ]
  },
  {
   "cell_type": "code",
   "execution_count": 18,
   "id": "11b8888a",
   "metadata": {},
   "outputs": [
    {
     "data": {
      "image/png": "[encoded data removed]",
      "text/plain": [
       "<Figure size 800x500 with 1 Axes>"
      ]
     },
     "metadata": {},
     "output_type": "display_data"
    }
   ],
   "source": [
    "import matplotlib.pyplot as plt\n",
    "\n",
    "# Plot the training loss curve\n",
    "plt.figure(figsize=(8, 5))\n",
    "plt.plot(range(num_epochs), train_losses, linestyle='-', color='blue')\n",
    "plt.xlabel('Epoch')\n",
    "plt.ylabel('Training Loss (MSE)')\n",
    "plt.title('Training Loss Over Time')\n",
    "plt.grid(True)\n",
    "plt.show()"
   ]
  },
  {
   "cell_type": "markdown",
   "id": "418991fe",
   "metadata": {},
   "source": [
    "### 🔍 What Does the Loss Curve Tell Us?\n",
    "\n",
    "Now that we’ve visualized the loss over 300 epochs, let’s reflect on what it reveals:\n",
    "\n",
    "- The loss **decreases rapidly at the beginning**, which means the model is quickly learning.\n",
    "- Then the curve starts to **flatten**, indicating the model is approaching its best performance.\n",
    "- The **final loss stabilizes**, suggesting that further training may not improve results much.\n",
    "\n",
    "✅ This pattern is a good sign!  \n",
    "It tells us the model is **learning effectively**, not diverging or stuck.\n",
    "\n",
    "\n",
    "### 📌 Next: Can the model generalize?\n",
    "\n",
    "We now move on to test the model on **unseen data** (test set) to evaluate how well it generalizes.\n"
   ]
  },
  {
   "cell_type": "markdown",
   "id": "08759573",
   "metadata": {},
   "source": [
    "\n",
    "This version:\n",
    "- Marks every 20 epochs with a dot\n",
    "- Shows the final loss as a red horizontal dashed line\n",
    "\n",
    "> ✅ A steadily decreasing loss with a low final value indicates successful training.\n",
    "> If your loss is flat, increasing, or erratic, revisit learning rate, model depth, or data scaling.\n",
    "\n",
    "Next, let’s evaluate our trained model on unseen test data.\n",
    "\n",
    "---"
   ]
  },
  {
   "cell_type": "markdown",
   "id": "883477a4",
   "metadata": {},
   "source": [
    "## 8. Evaluating the MLP on Unseen Data\n",
    "\n",
    "### 🎯 Objective\n",
    "\n",
    "- Evaluate how well our trained model performs on **test data** (new, unseen examples).\n",
    "- Compare performance between **training and testing**.\n",
    "- Detect signs of **overfitting**, **underfitting**, or **good generalization**.\n",
    "\n",
    "\n",
    "### 🧠 Why Evaluate on the Test Set?\n",
    "\n",
    "✅ During training, the model learns patterns from the **training data**.  \n",
    "But what we really care about is:  \n",
    "> ❓ “Can this model make good predictions on new, unseen data?”\n",
    "\n",
    "That’s why we use a **test set** — a portion of the data the model hasn’t seen during training.\n",
    "\n",
    "\n",
    "### 📌 A Good Model Should:\n",
    "\n",
    "- Have **low training loss**\n",
    "- And also **low test loss**\n",
    "- If the test loss is **much higher** than training loss → the model is **overfitting**\n",
    "\n",
    "\n",
    "### 🔢 Evaluation Metrics\n",
    "\n",
    "We use two key metrics here:\n",
    "\n",
    "| Metric | Description |\n",
    "|--------|-------------|\n",
    "| **MSE** (Mean Squared Error) | Measures average squared difference between predictions and true values |\n",
    "| **RMSE** (Root Mean Squared Error) | Square root of MSE — gives error in original units (MPa) |\n",
    "\n",
    "✅ MSE is what the model trained to minimize.  \n",
    "✅ RMSE is easier to interpret — a lower RMSE means more accurate predictions.\n",
    "\n",
    "\n",
    "### 🛠️ Code: Evaluate on Training and Test Sets\n",
    "\n",
    "We turn off gradient tracking with `torch.no_grad()` since we’re not updating weights now:"
   ]
  },
  {
   "cell_type": "code",
   "execution_count": 19,
   "id": "5c95e1fe",
   "metadata": {},
   "outputs": [
    {
     "name": "stdout",
     "output_type": "stream",
     "text": [
      "Final Training Loss (MSE): 123.7480\n",
      "Final Testing Loss (MSE): 136.0419\n"
     ]
    }
   ],
   "source": [
    "# Evaluate model performance\n",
    "\n",
    "with torch.no_grad():\n",
    "    # Predict on train set\n",
    "    train_preds = model(X_train)\n",
    "    train_loss = loss_fn(train_preds, y_train)\n",
    "\n",
    "    # Predict on test set\n",
    "    test_preds = model(X_test)\n",
    "    test_loss = loss_fn(test_preds, y_test)\n",
    "\n",
    "print(f\"Final Training Loss (MSE): {train_loss.item():.4f}\")\n",
    "print(f\"Final Testing Loss (MSE): {test_loss.item():.4f}\")"
   ]
  },
  {
   "cell_type": "markdown",
   "id": "1878f37a",
   "metadata": {},
   "source": [
    "### 🧠 Let’s Dig Deeper with RMSE\n",
    "\n",
    "To get more interpretable values, we take the square root of MSE:"
   ]
  },
  {
   "cell_type": "code",
   "execution_count": null,
   "id": "0c90da72",
   "metadata": {},
   "outputs": [],
   "source": [
    "# Calculate RMSE\n",
    "train_rmse = torch.sqrt(train_loss)\n",
    "test_rmse = torch.sqrt(test_loss)\n",
    "\n",
    "print(f\"Training RMSE: {train_rmse.item():.2f} MPa\")\n",
    "print(f\"Testing RMSE: {test_rmse.item():.2f} MPa\")\n"
   ]
  },
  {
   "cell_type": "markdown",
   "id": "83147a3f",
   "metadata": {},
   "source": [
    "### 📈 How to Interpret the Results\n",
    "\n",
    "| **Scenario**                                  | **What It Means**                               |\n",
    "|-----------------------------------------------|--------------------------------------------------|\n",
    "| 🟢 Training RMSE ≈ Test RMSE (both low)        | ✅ Model generalizes well                        |\n",
    "| 🟡 Training RMSE low, Test RMSE high           | ⚠️ Overfitting: Model memorized training data   |\n",
    "| 🔴 Both RMSE values are high                   | ❌ Underfitting: Model failed to learn patterns |\n",
    "\n",
    "\n"
   ]
  },
  {
   "cell_type": "markdown",
   "id": "4254752f",
   "metadata": {},
   "source": [
    "### ✅ Our Evaluation Outcome\n",
    "\n",
    "| **Metric**        | **Value**     |\n",
    "|-------------------|---------------|\n",
    "| Training RMSE     | 11.12 MPa     |\n",
    "| Testing RMSE      | 11.66 MPa     |\n",
    "\n",
    "\n",
    "\n",
    "### 🧠 What This Means:\n",
    "\n",
    "- The gap between training and testing RMSE is small (**≈ 0.54 MPa difference**)  \n",
    "- This suggests the model is **not overfitting** — it has **generalized well** to unseen data  \n",
    "- Both values are in the same range and **relatively low** compared to the dataset range  \n",
    "  *(Concrete strength ranges from ~2 MPa to 80+ MPa)*\n",
    "\n",
    "Now,\n",
    "The MLP has learned **meaningful patterns** from the training data  \n",
    "and is performing **reliably on test data**\n",
    "\n",
    "---"
   ]
  },
  {
   "cell_type": "markdown",
   "id": "16278a9e",
   "metadata": {},
   "source": [
    "## 9. Final Reflection + What’s Next\n",
    "\n",
    "### Reflecting on Our First Real MLP\n",
    "\n",
    "✅ In this notebook, we brought everything together:\n",
    "\n",
    "- Real-world data (**Concrete compressive strength**)  \n",
    "- A fully connected neural network (**MLP**)  \n",
    "- A complete **training and evaluation pipeline** in PyTorch\n",
    "\n",
    "\n",
    "### 🧠 What We’ve Learned\n",
    "\n",
    "| **Concept**                 | **Takeaway**                                           |\n",
    "|----------------------------|--------------------------------------------------------|\n",
    "| MLP Architecture           | Stack of linear layers with nonlinear activations     |\n",
    "| `nn.Sequential` vs `nn.Module` | Two ways to build networks: quick prototype vs flexible design |\n",
    "| Model Training             | Forward → Loss → Backward → Update (core training loop) |\n",
    "| Evaluation Metrics         | MSE and RMSE give numeric performance feedback         |\n",
    "| Generalization             | Comparing test vs train loss shows model's reliability |\n",
    "\n",
    "\n",
    "### 🧪 Your Model’s Behavior\n",
    "\n",
    "You should now be able to:\n",
    "\n",
    "- Read and interpret **training curves**  \n",
    "- Compare **training and testing performance**  \n",
    "- Reason about **underfitting**, **overfitting**, or **generalization**\n",
    "\n",
    "✅ In our case:\n",
    "\n",
    "- **Training RMSE:** 11.12 MPa  \n",
    "- **Testing RMSE:** 11.66 MPa  \n",
    "\n",
    "🟢 This indicates **effective generalization**!\n"
   ]
  },
  {
   "cell_type": "markdown",
   "id": "a2228336",
   "metadata": {},
   "source": [
    "### 🧩 Visual Recap: What We Built"
   ]
  },
  {
   "cell_type": "markdown",
   "id": "1d992126",
   "metadata": {},
   "source": [
    "```text\n",
    "                🧮 Input Features (X) — 8 concrete mix parameters\n",
    "                              │\n",
    "                              ▼\n",
    "                 ┌──────────────────────────┐\n",
    "                 │  Linear Layer (8 → 32)   │\n",
    "                 └──────────────────────────┘\n",
    "                              │\n",
    "                              ▼\n",
    "                     🔺 ReLU Activation\n",
    "                              │\n",
    "                              ▼\n",
    "                 ┌──────────────────────────┐\n",
    "                 │  Linear Layer (32 → 16)  │\n",
    "                 └──────────────────────────┘\n",
    "                              │\n",
    "                              ▼\n",
    "                     🔺 ReLU Activation\n",
    "                              │\n",
    "                              ▼\n",
    "                 ┌──────────────────────────┐\n",
    "                 │  Output Layer (16 → 1)   │  →  ŷ (Predicted Strength)\n",
    "                 └──────────────────────────┘\n",
    "                              │\n",
    "                              ▼\n",
    "            🔍 Compare with Actual Target y → compute MSE → backpropagate\n",
    "```"
   ]
  }
 ],
 "metadata": {
  "kernelspec": {
   "display_name": "Python 3 (ipykernel)",
   "language": "python",
   "name": "python3"
  },
  "language_info": {
   "codemirror_mode": {
    "name": "ipython",
    "version": 3
   },
   "file_extension": ".py",
   "mimetype": "text/x-python",
   "name": "python",
   "nbconvert_exporter": "python",
   "pygments_lexer": "ipython3",
   "version": "3.11.0"
  },
  "widgets": {
   "application/vnd.jupyter.widget-state+json": {
    "state": {},
    "version_major": 2,
    "version_minor": 0
   }
  }
 },
 "nbformat": 4,
 "nbformat_minor": 5
}
