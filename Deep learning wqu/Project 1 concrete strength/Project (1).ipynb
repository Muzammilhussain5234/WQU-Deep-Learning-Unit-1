{
 "cells": [
  {
   "cell_type": "markdown",
   "id": "6eaa2bed-580e-4e5c-86fd-3cd2361284e8",
   "metadata": {},
   "source": [
    "---\n",
    "## Deep Learning Context and PyTorch Basics"
   ]
  },
  {
   "cell_type": "markdown",
   "id": "1ada2a67",
   "metadata": {},
   "source": [
    "---\n",
    "\n",
    "Hello and welcome! 🎉\n",
    "\n",
    "In this notebook, we will start our exciting journey into the world of **Deep Learning**.\n",
    "\n",
    "**What you will do in this notebook:**\n",
    "- Understand what Deep Learning is and why it matters.\n",
    "- Learn about basic mathematical structures (scalars, vectors, matrices, tensors).\n",
    "- Explore **PyTorch**, the powerful deep learning library.\n",
    "- Perform tensor operations and prepare real-world data for modeling.\n",
    "- Visualize real data and build intuition about learning problems.\n",
    "\n",
    "✅ **Pro Tip:**  \n",
    "Take your time to read the Markdown explanations carefully, and try **running and modifying** code cells.  \n",
    "**Learning happens when you experiment!**\n",
    "\n",
    "Ready? 🚀 Let's begin!\n",
    "\n",
    "---\n"
   ]
  },
  {
   "cell_type": "markdown",
   "id": "8c1a4c93",
   "metadata": {},
   "source": [
    "## 1. Introduction: Why Deep Learning?"
   ]
  },
  {
   "cell_type": "markdown",
   "id": "7067c994",
   "metadata": {},
   "source": [
    "### 1.1 What is Deep Learning? \n",
    "\n",
    "**Deep Learning** is a branch of machine learning that focuses on using **neural networks with many layers** (hence the term 'deep') to model complex patterns in data.\n",
    "\n",
    "At its core:\n",
    "- A **neural network** is a collection of simple units (called **neurons**) that process information.\n",
    "- **Deep** means stacking many layers of these units together, allowing the network to learn **highly complex mappings** from inputs to outputs.\n",
    "\n",
    "> **Analogy:**  \n",
    "Just like the human brain is made up of many layers of neurons working together to recognize objects, sounds, and patterns, deep learning models use artificial layers to process and learn from data.\n",
    "\n",
    "Deep learning has proven especially powerful because:\n",
    "- It **automatically learns features** from raw data (no manual feature engineering needed).\n",
    "- It can handle **very large and complex datasets** like images, videos, and text.\n",
    "- It continues to improve as more data and computing power become available.\n",
    "\n",
    "---\n"
   ]
  },
  {
   "cell_type": "markdown",
   "id": "b9a6321d",
   "metadata": {},
   "source": [
    "### 1.2 Real-World Applications of Deep Learning\n",
    "\n",
    "Deep Learning powers many technologies you interact with every day! Some exciting examples include:\n",
    "\n",
    "- **Image Classification:**  \n",
    "  - Systems that can detect whether an image contains a **cat**, **dog**, or **car**.  \n",
    "  - Used in apps like Google Photos and Instagram.\n",
    "\n",
    "- **Speech Recognition:**  \n",
    "  - Virtual assistants like **Siri**, **Alexa**, and **Google Assistant** use deep learning to understand spoken commands.\n",
    "\n",
    "- **Text Generation:**  \n",
    "  - Language models such as **ChatGPT** can generate text, answer questions, or even write poetry.\n",
    "\n",
    "- **Medical Diagnostics:**  \n",
    "  - Deep learning models can help **detect cancer** or **analyze X-ray images** with high accuracy, assisting doctors.\n",
    "  \n"
   ]
  },
  {
   "cell_type": "markdown",
   "id": "abaf8909",
   "metadata": {},
   "source": [
    "### 1.3 Short Timeline of Deep Learning\n",
    "\n",
    "Here is a brief history of some **milestones** in the development of Deep Learning:\n",
    "\n",
    "- **1958:**  \n",
    "  - **Perceptron** introduced by Frank Rosenblatt.  \n",
    "  - The first model simulating a neuron that could learn simple patterns.\n",
    "\n",
    "- **1986:**  \n",
    "  - **Backpropagation algorithm** popularized by Geoffrey Hinton and others.  \n",
    "  - This allowed **multi-layer** networks to be trained effectively.\n",
    "\n",
    "- **2012:**  \n",
    "  - **AlexNet** (by Alex Krizhevsky) wins the ImageNet competition by a huge margin using a deep convolutional neural network (CNN).  \n",
    "  - Sparked a revolution in computer vision and deep learning adoption.\n",
    "\n",
    "- **2017:**  \n",
    "  - **Transformers** architecture introduced in the paper *\"Attention is All You Need\"*.  \n",
    "  - Replaced recurrence with **self-attention**, enabling parallelization and scaling to very large models.  \n",
    "  - Became the foundation for models like BERT, GPT, and ultimately LLMs.\n",
    "\n",
    "- **2022:**  \n",
    "  - **ChatGPT** (by OpenAI) demonstrated the incredible power of large deep language models.  \n",
    "  - Widely adopted for text generation, coding assistance, and more.\n",
    "\n",
    "These milestones show how deep learning has evolved from a theoretical idea to **a central technology shaping our world today**!\n",
    "\n",
    "---\n"
   ]
  },
  {
   "cell_type": "markdown",
   "id": "b962d855-fdf5-42c1-b25a-1555a647becd",
   "metadata": {},
   "source": [
    "## 2. Introduction to Tensors"
   ]
  },
  {
   "cell_type": "markdown",
   "id": "ffa3805d",
   "metadata": {},
   "source": [
    "### 2.1 Scalars, Vectors, Matrices, and Tensors\n",
    "\n",
    "In Deep Learning, we work with **tensors** — a generalization of scalars, vectors, and matrices.  \n",
    "Tensors are the **building blocks** of data representation in modern neural networks.\n",
    "\n",
    "---\n",
    "\n",
    "🔢 Object Types and Dimensions\n",
    "\n",
    "| Object   | Example                         | Dimension | Description                          |\n",
    "|:--------:|:--------------------------------|:---------:|:-------------------------------------|\n",
    "| Scalar   | $x = 5$                         | 0D        | A single number                      |\n",
    "| Vector   | $\\mathbf{x} = \\begin{bmatrix} 1 \\\\ 2 \\\\ 3 \\end{bmatrix}$ | 1D | A list of numbers (1 axis)           |\n",
    "| Matrix   | $\\mathbf{X} = \\begin{bmatrix} 1 & 2 \\\\ 3 & 4 \\end{bmatrix}$ | 2D | A grid/table of numbers (2 axes)     |\n",
    "| Tensor   | e.g., $\\mathcal{T} \\in \\mathbb{R}^{2 \\times 2 \\times 2}$ | 3D+       | A cube or higher-dimensional array   |\n",
    "\n",
    "---\n",
    "\n",
    "### 📏 Visual Intuition\n",
    "\n",
    "**Scalar (0D):**  \n",
    "$$\n",
    "x = 5\n",
    "$$\n",
    "\n",
    "**Vector (1D):**  \n",
    "$$\n",
    "\\mathbf{x} =\n",
    "\\begin{bmatrix}\n",
    "1 \\\\\n",
    "2 \\\\\n",
    "3\n",
    "\\end{bmatrix}\n",
    "$$\n",
    "\n",
    "**Matrix (2D):**  \n",
    "$$\n",
    "\\mathbf{X} =\n",
    "\\begin{bmatrix}\n",
    "1 & 2 \\\\\n",
    "3 & 4\n",
    "\\end{bmatrix}\n",
    "$$\n",
    "\n",
    "**Tensor (3D Example):**  \n",
    "Think of this as multiple matrices stacked together:\n",
    "$$\n",
    "\\mathcal{T} =\n",
    "\\begin{bmatrix}\n",
    "\\begin{bmatrix}\n",
    "1 & 2 \\\\\n",
    "3 & 4\n",
    "\\end{bmatrix},\n",
    "\\begin{bmatrix}\n",
    "5 & 6 \\\\\n",
    "7 & 8\n",
    "\\end{bmatrix}\n",
    "\\end{bmatrix}\n",
    "$$\n",
    "\n",
    "*This is a $2 \\times 2 \\times 2$ tensor.*\n"
   ]
  },
  {
   "cell_type": "markdown",
   "id": "67e60f8b",
   "metadata": {},
   "source": [
    "🔵 **Key takeaways:**  \n",
    "- A scalar is a single value\n",
    "- A vector is a list\n",
    "- A matrix is a grid\n",
    "- A tensor can be a cube or even higher-dimensional structure!\n"
   ]
  },
  {
   "cell_type": "markdown",
   "id": "b62dcbcb",
   "metadata": {},
   "source": [
    "#### 🖥️ Code Cell 2.1: Create Examples of Each"
   ]
  },
  {
   "cell_type": "code",
   "execution_count": 28,
   "id": "89eeecc6",
   "metadata": {},
   "outputs": [
    {
     "name": "stdout",
     "output_type": "stream",
     "text": [
      "Scalar: tensor(5)\n",
      "Shape: torch.Size([])\n",
      "\n",
      "Vector: tensor([1, 2, 3])\n",
      "Shape: torch.Size([3])\n",
      "\n",
      "Matrix: tensor([[1, 2],\n",
      "        [3, 4]])\n",
      "Shape: torch.Size([2, 2])\n",
      "\n",
      "3D Tensor: tensor([[[-0.5543,  0.6896, -0.9046, -0.7949],\n",
      "         [ 0.3610, -0.2013,  0.5457, -0.6595],\n",
      "         [-0.6798, -0.1627,  0.5791,  1.8246]],\n",
      "\n",
      "        [[-0.5271,  0.4315, -1.2796, -0.2802],\n",
      "         [-1.0952, -0.6460, -0.1735, -0.2080],\n",
      "         [ 0.0464,  2.6289, -0.0474, -0.5481]]])\n",
      "Shape: torch.Size([2, 3, 4])\n"
     ]
    }
   ],
   "source": [
    "import torch\n",
    "\n",
    "# Scalar: 0D tensor\n",
    "scalar = torch.tensor(5)\n",
    "print(\"Scalar:\", scalar)\n",
    "print(\"Shape:\", scalar.shape)\n",
    "\n",
    "# Vector: 1D tensor\n",
    "vector = torch.tensor([1, 2, 3])\n",
    "print(\"\\nVector:\", vector)\n",
    "print(\"Shape:\", vector.shape)\n",
    "\n",
    "# Matrix: 2D tensor\n",
    "matrix = torch.tensor([[1, 2], [3, 4]])\n",
    "print(\"\\nMatrix:\", matrix)\n",
    "print(\"Shape:\", matrix.shape)\n",
    "\n",
    "# 3D Tensor\n",
    "tensor_3d = torch.randn(2, 3, 4)  # random numbers\n",
    "print(\"\\n3D Tensor:\", tensor_3d)\n",
    "print(\"Shape:\", tensor_3d.shape)\n"
   ]
  },
  {
   "cell_type": "markdown",
   "id": "e7fffe36",
   "metadata": {},
   "source": [
    "#### 🛠️ Code Task 1.1.2.1\n",
    "\n",
    "Create the following PyTorch tensors:\n",
    "\n",
    "- A scalar tensor with value `10`, stored in a variable named `my_scalar`\n",
    "- A vector tensor with values `[5, 10, 15]`, stored in `my_vector`\n",
    "- A matrix tensor with shape **(2, 3)** (2 rows, 3 columns), using any values, stored in `my_matrix`\n",
    "\n",
    "**Steps:**\n",
    "1. Use `torch.tensor()`.\n",
    "2. Print the tensor.\n",
    "3. Print its `.shape` attribute.\n",
    "\n",
    "🔔 *Hint:* Scalars have no shape dimensions like ( ); vectors have (N,); matrices have (N, M).\n",
    "\n",
    "---\n"
   ]
  },
  {
   "cell_type": "code",
   "execution_count": 29,
   "id": "d8d15a9a",
   "metadata": {},
   "outputs": [
    {
     "name": "stdout",
     "output_type": "stream",
     "text": [
      "Scalar: tensor(5) Shape: torch.Size([])\n",
      "Vector: tensor([ 5, 10, 15]) Shape: torch.Size([3])\n",
      "Matrix:\n",
      " tensor([[ 0.4260,  0.5208,  0.8445],\n",
      "        [-1.2197,  0.8867, -0.4331]]) Shape: torch.Size([2, 3])\n"
     ]
    }
   ],
   "source": [
    "# 1. Scalar tensor\n",
    "my_scalar =torch.tensor(5)\n",
    "\n",
    "# 2. Vector tensor\n",
    "my_vector =torch.tensor([5, 10, 15])\n",
    "\n",
    "# 3. Matrix tensor (2×3)\n",
    "my_matrix =torch.randn(2,3)\n",
    "\n",
    "# Print tensors and shapes\n",
    "print(\"Scalar:\", my_scalar, \"Shape:\", my_scalar.shape)\n",
    "print(\"Vector:\", my_vector, \"Shape:\", my_vector.shape)\n",
    "print(\"Matrix:\\n\", my_matrix, \"Shape:\", my_matrix.shape)"
   ]
  },
  {
   "cell_type": "markdown",
   "id": "11718ba5",
   "metadata": {},
   "source": [
    "### 2.2 Why Tensors? \n",
    "\n",
    "You might wonder: why do we need **tensors** in Deep Learning?  \n",
    "Here are the key reasons:\n",
    "\n",
    "---\n",
    "\n",
    "🔹 **Compact Data Representation**  \n",
    "Tensors allow us to organize and manage large datasets (images, audio, text, etc.) efficiently and consistently.\n",
    "\n",
    "🔹 **Optimized for GPUs**  \n",
    "Tensors are designed to work seamlessly on both CPUs and GPUs.  \n",
    "PyTorch can easily move tensors to GPUs for **accelerated computation**, making it ideal for training large models.\n",
    "\n",
    "🔹 **Mathematical Structure**  \n",
    "Tensors allow operations like addition, multiplication, dot products, and more — enabling us to define and optimize complex neural network models through clear algebraic operations.\n",
    "\n",
    "---\n",
    "\n",
    "🚀 **In short:**  \n",
    "Tensors = the universal language of Deep Learning!\n",
    "\n",
    "\n"
   ]
  },
  {
   "cell_type": "markdown",
   "id": "fcd1f5be",
   "metadata": {},
   "source": [
    "## 3. PyTorch Setup"
   ]
  },
  {
   "cell_type": "markdown",
   "id": "a167d00a",
   "metadata": {},
   "source": [
    "### 3.1 Importing Libraries\n",
    "\n",
    "Before we can start working with tensors and deep learning models, we need to import **PyTorch** — the popular deep learning library.\n",
    "\n",
    "```python\n",
    "import torch\n"
   ]
  },
  {
   "cell_type": "markdown",
   "id": "797b8ef3",
   "metadata": {},
   "source": [
    "### 🔵 Why use PyTorch?\n",
    "\n",
    "   🔹 **Flexibility:**\n",
    "    PyTorch uses a dynamic computation graph, meaning you can modify your model structure on-the-fly. It's very developer-friendly!\n",
    "\n",
    "   🔹 **Ease of Learning:**\n",
    "    PyTorch code looks very similar to NumPy and basic Python, making it intuitive if you already know basic Python programming.\n",
    "\n",
    "   🔹 **GPU Acceleration:**\n",
    "    PyTorch can easily move computations to a GPU, making training deep learning models much faster.\n",
    "\n",
    "    \n",
    "<b>Fun Fact:</b> Major tech companies like Facebook (Meta), Tesla, and OpenAI use PyTorch for building cutting-edge AI systems!\n",
    "\n"
   ]
  },
  {
   "cell_type": "markdown",
   "id": "5f48ba4f",
   "metadata": {},
   "source": [
    "#### 🖥️ Code Cell 3.1: Import PyTorch"
   ]
  },
  {
   "cell_type": "code",
   "execution_count": 30,
   "id": "67ca454c",
   "metadata": {},
   "outputs": [
    {
     "name": "stdout",
     "output_type": "stream",
     "text": [
      "2.7.0+cpu\n"
     ]
    }
   ],
   "source": [
    "# Import the torch library\n",
    "import torch\n",
    "\n",
    "# Check PyTorch version\n",
    "print(torch.__version__)"
   ]
  },
  {
   "cell_type": "markdown",
   "id": "86e6cba3",
   "metadata": {},
   "source": [
    "### 3.2 Creating Tensors in PyTorch\n",
    "\n",
    "Once PyTorch is imported, we can create **tensors** using different methods:\n",
    "\n",
    "- **torch.tensor():** Create tensor from a Python list or number.\n",
    "- **torch.zeros():** Create tensor filled with zeros.\n",
    "- **torch.ones():** Create tensor filled with ones.\n",
    "- **torch.rand():** Create tensor filled with random numbers between 0 and 1.\n",
    "\n",
    "---\n",
    "\n",
    "#### 📐 Understanding Dimensions (Shape)\n",
    "\n",
    "- A **scalar** has **0 dimensions**: just a number.\n",
    "- A **vector** has **1 dimension**: a list of numbers.\n",
    "- A **matrix** has **2 dimensions**: rows and columns.\n",
    "- A **3D tensor** is like a stack of matrices.\n",
    "\n",
    "Knowing the **shape** of your tensors is very important in deep learning!  \n",
    "(Mismatched shapes cause errors.)\n",
    "\n",
    "---"
   ]
  },
  {
   "cell_type": "markdown",
   "id": "6048f123",
   "metadata": {},
   "source": [
    "#### 🖥️ Code Cell 3.2: Examples"
   ]
  },
  {
   "cell_type": "code",
   "execution_count": 31,
   "id": "31a1d359",
   "metadata": {},
   "outputs": [
    {
     "name": "stdout",
     "output_type": "stream",
     "text": [
      "Scalar:\n",
      "tensor(7)\n",
      "Shape: torch.Size([])\n",
      "\n",
      "Vector:\n",
      "tensor([2, 4, 6])\n",
      "Shape: torch.Size([3])\n",
      "\n",
      "Matrix:\n",
      "tensor([[1, 2],\n",
      "        [3, 4]])\n",
      "Shape: torch.Size([2, 2])\n",
      "\n",
      "3D Tensor:\n",
      "tensor([[[0.7881, 0.3368, 0.1905, 0.4442],\n",
      "         [0.7063, 0.9665, 0.4154, 0.9609],\n",
      "         [0.6652, 0.1547, 0.2711, 0.7040]],\n",
      "\n",
      "        [[0.8726, 0.4770, 0.3857, 0.4907],\n",
      "         [0.2840, 0.9004, 0.5094, 0.9443],\n",
      "         [0.9447, 0.7089, 0.9789, 0.8565]]])\n",
      "Shape: torch.Size([2, 3, 4])\n"
     ]
    }
   ],
   "source": [
    "# Scalar\n",
    "scalar = torch.tensor(7)\n",
    "print(\"Scalar:\")\n",
    "print(scalar)\n",
    "print(\"Shape:\", scalar.shape)\n",
    "\n",
    "# 1D Vector\n",
    "vector = torch.tensor([2, 4, 6])\n",
    "print(\"\\nVector:\")\n",
    "print(vector)\n",
    "print(\"Shape:\", vector.shape)\n",
    "\n",
    "# 2D Matrix\n",
    "matrix = torch.tensor([[1, 2], [3, 4]])\n",
    "print(\"\\nMatrix:\")\n",
    "print(matrix)\n",
    "print(\"Shape:\", matrix.shape)\n",
    "\n",
    "# 3D Tensor\n",
    "tensor3d = torch.rand((2, 3, 4))\n",
    "print(\"\\n3D Tensor:\")\n",
    "print(tensor3d)\n",
    "print(\"Shape:\", tensor3d.shape)\n"
   ]
  },
  {
   "cell_type": "markdown",
   "id": "91c7e830",
   "metadata": {},
   "source": [
    "### 3.3 Tensor Attributes\n",
    "\n",
    "Every tensor in PyTorch comes with important **attributes** that describe its properties.\n",
    "\n",
    "| Attribute | Description | Example |\n",
    "|:---|:---|:---|\n",
    "| `.dtype` | Data type of tensor elements (e.g., float32, int64) | `torch.float32` |\n",
    "| `.shape` | Dimensions of the tensor (rows, columns, etc.) | `(2, 3)` |\n",
    "| `.device` | Where the tensor is stored (CPU or GPU) | `cpu` or `cuda` |\n",
    "\n",
    "Knowing these attributes helps you **debug** and **optimize** your deep learning models easily.\n",
    "\n",
    "---\n"
   ]
  },
  {
   "cell_type": "markdown",
   "id": "1c0ab8dc",
   "metadata": {},
   "source": [
    "#### 🖥️ Code Cell 3.3: Display Properties"
   ]
  },
  {
   "cell_type": "code",
   "execution_count": 32,
   "id": "24f989ea",
   "metadata": {},
   "outputs": [
    {
     "name": "stdout",
     "output_type": "stream",
     "text": [
      "Data type: torch.int64\n",
      "Shape: torch.Size([2, 2])\n",
      "Device: cpu\n"
     ]
    }
   ],
   "source": [
    "# Checking properties\n",
    "print(\"Data type:\", matrix.dtype)\n",
    "print(\"Shape:\", matrix.shape)\n",
    "print(\"Device:\", matrix.device)\n"
   ]
  },
  {
   "cell_type": "markdown",
   "id": "00ae141d",
   "metadata": {},
   "source": [
    "## 4. Tensor Operations"
   ]
  },
  {
   "cell_type": "markdown",
   "id": "f1bdede1-c3c6-47d5-bfd8-18bc1e386ceb",
   "metadata": {},
   "source": [
    "### Video: Tensors & PyTorch"
   ]
  },
  {
   "cell_type": "code",
   "execution_count": 33,
   "id": "ccd8bd4f-800b-41ab-826a-6d9c0afc4087",
   "metadata": {},
   "outputs": [
    {
     "data": {
      "text/html": [
       "\n",
       "        <iframe\n",
       "            width=\"700\"\n",
       "            height=\"450\"\n",
       "            src=\"https://player.vimeo.com/video/1091215607?h=3298dbabb7\"\n",
       "            frameborder=\"0\"\n",
       "            allowfullscreen\n",
       "            \n",
       "        ></iframe>\n",
       "        "
      ],
      "text/plain": [
       "<IPython.lib.display.VimeoVideo at 0x7923d06e66d0>"
      ]
     },
     "execution_count": 33,
     "metadata": {},
     "output_type": "execute_result"
    }
   ],
   "source": [
    "from IPython.display import VimeoVideo\n",
    "\n",
    "VimeoVideo(\"1091215607\", h=\"3298dbabb7\", width=700, height=450)"
   ]
  },
  {
   "cell_type": "markdown",
   "id": "8274c630",
   "metadata": {},
   "source": [
    "### 4.1 Basic Tensor Operations\n",
    "\n",
    "Tensors are not just storage for numbers — we also **perform operations** on them, like addition, multiplication, and matrix multiplication.\n",
    "\n",
    "Here are some basic operations you should know:\n",
    "\n",
    "---\n",
    "\n",
    "#### ➡️ Element-wise Addition\n",
    "\n",
    "Given two vectors:\n",
    "\n",
    "$$\n",
    "\\mathbf{a} = [1, 2, 3], \\quad \\mathbf{b} = [4, 5, 6]\n",
    "$$\n",
    "\n",
    "Element-wise addition:\n",
    "\n",
    "$$\n",
    "\\mathbf{a} + \\mathbf{b} = [1+4, 2+5, 3+6] = [5, 7, 9]\n",
    "$$\n",
    "\n",
    "---\n",
    "\n",
    "#### ➡️ Element-wise Multiplication\n",
    "\n",
    "Element-wise multiplication (also called Hadamard product):\n",
    "\n",
    "$$\n",
    "\\mathbf{a} \\circ \\mathbf{b} = [1 \\times 4, 2 \\times 5, 3 \\times 6] = [4, 10, 18]\n",
    "$$\n",
    "\n",
    "---\n",
    "\n",
    "#### ➡️ Dot Product (Inner Product)\n",
    "\n",
    "The dot product of two vectors:\n",
    "\n",
    "$$\n",
    "\\text{dot}(\\mathbf{a}, \\mathbf{b}) = (1 \\times 4) + (2 \\times 5) + (3 \\times 6) = 4 + 10 + 18 = 32\n",
    "$$\n",
    "\n",
    "---\n",
    "\n",
    "#### ➡️ Matrix Multiplication\n",
    "\n",
    "Given two matrices:\n",
    "\n",
    "$$\n",
    "\\mathbf{A} = \\begin{bmatrix} 1 & 2 \\\\ 3 & 4 \\end{bmatrix}, \\quad\n",
    "\\mathbf{B} = \\begin{bmatrix} 5 & 6 \\\\ 7 & 8 \\end{bmatrix}\n",
    "$$\n",
    "\n",
    "Matrix multiplication:\n",
    "\n",
    "$$\n",
    "\\mathbf{A} \\times \\mathbf{B} =\n",
    "\\begin{bmatrix}\n",
    "1 \\cdot 5 + 2 \\cdot 7 & 1 \\cdot 6 + 2 \\cdot 8 \\\\\n",
    "3 \\cdot 5 + 4 \\cdot 7 & 3 \\cdot 6 + 4 \\cdot 8\n",
    "\\end{bmatrix}\n",
    "=\n",
    "\\begin{bmatrix}\n",
    "19 & 22 \\\\\n",
    "43 & 50\n",
    "\\end{bmatrix}\n",
    "$$\n",
    "\n",
    "---\n",
    "\n",
    "🔁 **Tensor operations** allow deep learning models to process inputs, update weights, and make predictions.\n"
   ]
  },
  {
   "cell_type": "markdown",
   "id": "47d11e73",
   "metadata": {},
   "source": [
    "#### 🖥️ Code Cell 4.1: Basic Operations"
   ]
  },
  {
   "cell_type": "code",
   "execution_count": 34,
   "id": "161f1fd4",
   "metadata": {},
   "outputs": [
    {
     "name": "stdout",
     "output_type": "stream",
     "text": [
      "Element-wise addition:\n",
      "tensor([5, 7, 9])\n",
      "\n",
      "Element-wise multiplication:\n",
      "tensor([ 4, 10, 18])\n",
      "\n",
      "Dot product:\n",
      "tensor(32)\n",
      "\n",
      "Matrix multiplication:\n",
      "tensor([[19, 22],\n",
      "        [43, 50]])\n"
     ]
    }
   ],
   "source": [
    "import torch\n",
    "\n",
    "# Element-wise addition\n",
    "a = torch.tensor([1, 2, 3])\n",
    "b = torch.tensor([4, 5, 6])\n",
    "print(\"Element-wise addition:\")\n",
    "print(a + b)\n",
    "\n",
    "# Element-wise multiplication\n",
    "print(\"\\nElement-wise multiplication:\")\n",
    "print(a * b)\n",
    "\n",
    "# Dot product\n",
    "print(\"\\nDot product:\")\n",
    "print(torch.dot(a, b))\n",
    "\n",
    "# Matrix multiplication\n",
    "A = torch.tensor([[1, 2], [3, 4]])\n",
    "B = torch.tensor([[5, 6], [7, 8]])\n",
    "print(\"\\nMatrix multiplication:\")\n",
    "print(torch.matmul(A, B))\n"
   ]
  },
  {
   "cell_type": "markdown",
   "id": "ffd48155",
   "metadata": {},
   "source": [
    "#### ✍️ Practice!"
   ]
  },
  {
   "cell_type": "markdown",
   "id": "22246ef5",
   "metadata": {},
   "source": [
    "#### 🛠️ Code Task 1.1.4.1\n",
    "\n",
    "- Create two vectors:\n",
    "  - $\\mathbf{a} = [1, 3, 5]$\n",
    "  - $\\mathbf{b} = [2, 4, 6]$\n",
    "\n",
    "Then perform the following operations:\n",
    "\n",
    "- ✅ Element-wise addition → store in `add_result`\n",
    "- ✅ Element-wise multiplication → store in `mult_result`\n",
    "- ✅ Dot product → store in `dot_result`\n",
    "\n",
    "Use PyTorch for all operations.\n",
    "\n",
    "---\n",
    "\n",
    "🔔 *Hint:* Use PyTorch functions:\n",
    "- `torch.tensor()`\n",
    "- `+` for addition\n",
    "- `*` for element-wise multiplication\n",
    "- `torch.dot()` for dot product\n"
   ]
  },
  {
   "cell_type": "code",
   "execution_count": 35,
   "id": "8426c65d",
   "metadata": {},
   "outputs": [
    {
     "name": "stdout",
     "output_type": "stream",
     "text": [
      "Addition: tensor([ 3,  7, 11])\n",
      "Multiplication: tensor([ 2, 12, 30])\n",
      "Dot product: tensor(44)\n"
     ]
    }
   ],
   "source": [
    "# Create the vectors\n",
    "a =torch.tensor([1,3,5])\n",
    "b =torch.tensor([2,4,6])\n",
    "\n",
    "# Operations\n",
    "add_result =a+b\n",
    "mult_result =a*b\n",
    "dot_result =torch.dot(a,b)\n",
    "\n",
    "# Display results\n",
    "print(\"Addition:\", add_result)\n",
    "print(\"Multiplication:\", mult_result)\n",
    "print(\"Dot product:\", dot_result)"
   ]
  },
  {
   "cell_type": "markdown",
   "id": "9f3c2018",
   "metadata": {},
   "source": [
    "### 4.2 What is Broadcasting?\n",
    "\n",
    "**Broadcasting** is a powerful concept in PyTorch that allows tensors with **different shapes** to be combined automatically during operations.\n",
    "\n",
    "---\n",
    "\n",
    "#### ➡️ Example:\n",
    "\n",
    "Suppose we have:\n",
    "\n",
    "- A matrix $X$ of shape $(2, 3)$:\n",
    "\n",
    "$$\n",
    "X =\n",
    "\\begin{bmatrix}\n",
    "1 & 2 & 3 \\\\\n",
    "4 & 5 & 6\n",
    "\\end{bmatrix}\n",
    "$$\n",
    "\n",
    "- A vector $b$ of shape $(3,)$:\n",
    "\n",
    "$$\n",
    "b = [7, 8, 9]\n",
    "$$\n",
    "\n",
    "When we do:\n",
    "\n",
    "$$\n",
    "X + b\n",
    "$$\n",
    "\n",
    "The vector $b$ is **automatically expanded** (broadcasted) to match the shape of $X$.\n",
    "\n",
    "**Result:**\n",
    "\n",
    "$$\n",
    "\\begin{bmatrix}\n",
    "1+7 & 2+8 & 3+9 \\\\\n",
    "4+7 & 5+8 & 6+9\n",
    "\\end{bmatrix}\n",
    "=\n",
    "\\begin{bmatrix}\n",
    "8 & 10 & 12 \\\\\n",
    "11 & 13 & 15\n",
    "\\end{bmatrix}\n",
    "$$\n",
    "\n",
    "---\n",
    "\n",
    "#### 🔥 Why is Broadcasting Useful?\n",
    "\n",
    "- Saves memory (no need to manually copy or reshape tensors)  \n",
    "- Makes code **shorter**, **cleaner**, and more **efficient**  \n",
    "- Often used to add **bias terms** to each row in neural networks\n"
   ]
  },
  {
   "cell_type": "markdown",
   "id": "426dbfaa",
   "metadata": {},
   "source": [
    "#### 🖥️ Code Cell 4.2: Broadcasting Example"
   ]
  },
  {
   "cell_type": "code",
   "execution_count": 36,
   "id": "437dd3b1",
   "metadata": {},
   "outputs": [
    {
     "name": "stdout",
     "output_type": "stream",
     "text": [
      "Broadcasting result:\n",
      "tensor([[11, 22, 33],\n",
      "        [14, 25, 36]])\n"
     ]
    }
   ],
   "source": [
    "# Broadcasting example\n",
    "X = torch.tensor([[1, 2, 3], [4, 5, 6]])\n",
    "bias = torch.tensor([10, 20, 30])\n",
    "\n",
    "# Broadcasting addition\n",
    "print(\"Broadcasting result:\")\n",
    "print(X + bias)\n"
   ]
  },
  {
   "cell_type": "markdown",
   "id": "636638f0",
   "metadata": {},
   "source": [
    "#### 🛠️ Code Task 1.1.4.2\n",
    "\n",
    "✅ **Your Task:**\n",
    "\n",
    "- Create a **matrix** of size $(2, 3)$, named `my_matrix`\n",
    "- Create a **vector** of size $(1, 3)$, named `my_vector` \n",
    "- Add them using **broadcasting** and store the result in a variable named `broadcast_sum`\n",
    "\n",
    "---\n",
    "\n",
    "**Use these values:**\n",
    "\n",
    "Matrix:\n",
    "\n",
    "$$\n",
    "\\begin{bmatrix}\n",
    "7 & 8 & 9 \\\\\n",
    "10 & 11 & 12\n",
    "\\end{bmatrix}\n",
    "$$\n",
    "\n",
    "Vector:\n",
    "\n",
    "$$\n",
    "[1, 1, 1]\n",
    "$$\n",
    "\n",
    "---\n",
    "\n",
    "**Steps:**\n",
    "- Use `torch.tensor()` to define both tensors  \n",
    "- Add them together and print the result\n",
    "\n",
    "🔔 *Hint:* You don't need to reshape anything manually — **broadcasting takes care of it**!\n"
   ]
  },
  {
   "cell_type": "code",
   "execution_count": 37,
   "id": "0c4a7d02",
   "metadata": {},
   "outputs": [
    {
     "name": "stdout",
     "output_type": "stream",
     "text": [
      "Result of broadcasting addition:\n",
      "tensor([[ 8,  9, 10],\n",
      "        [11, 12, 13]])\n"
     ]
    }
   ],
   "source": [
    "# Define matrix and vector\n",
    "my_matrix =torch.tensor([[7,8,9],[10,11,12]])\n",
    "my_vector = torch.tensor([1,1,1])\n",
    "\n",
    "# Perform addition with broadcasting\n",
    "broadcast_sum =my_matrix+my_vector\n",
    "\n",
    "# Display result\n",
    "print(\"Result of broadcasting addition:\")\n",
    "print(broadcast_sum)"
   ]
  },
  {
   "cell_type": "markdown",
   "id": "a206f1f4",
   "metadata": {},
   "source": [
    "## 5. Loading Real Data: Concrete_Data.csv"
   ]
  },
  {
   "cell_type": "markdown",
   "id": "0460e2d5",
   "metadata": {},
   "source": [
    "### 5.1 Introduction to the Concrete Dataset\n",
    "\n",
    "For our deep learning journey, we will work with a real-world dataset:  \n",
    "**Concrete Compressive Strength** dataset.\n",
    "\n",
    "🔹 **What's inside this dataset?**\n",
    "- **8 input features** related to the material composition and age of concrete:\n",
    "  - Cement, Blast Furnace Slag, Fly Ash, Water, Superplasticizer, Coarse Aggregate, Fine Aggregate, and Age (days).\n",
    "- **1 output feature** (target):\n",
    "  - Concrete Compressive Strength (in Megapascals, MPa).\n",
    "\n",
    "---\n",
    "\n",
    "🔵 **Why is this dataset important?**\n",
    "\n",
    "- Concrete is the **most important construction material** in civil engineering.\n",
    "- The strength of concrete depends on **complex, nonlinear relationships** between ingredients and curing time.\n",
    "- Predicting compressive strength accurately helps in **designing stronger, safer structures**.\n",
    "\n",
    "---\n",
    "\n",
    "✅ **Goal:**  \n",
    "Learn how to load, inspect, and work with real-world tabular data in preparation for building predictive models!\n",
    "\n",
    "---\n",
    "**Reference:**  \n",
    "- [UCI Machine Learning Repository - Concrete Data Set](https://archive.ics.uci.edu/dataset/165/concrete+compressive+strength)\n"
   ]
  },
  {
   "cell_type": "markdown",
   "id": "e7dd4fc4",
   "metadata": {},
   "source": [
    "#### 🖥️ Code Cell 5.1: Load the CSV File"
   ]
  },
  {
   "cell_type": "code",
   "execution_count": 38,
   "id": "d1cc58e6",
   "metadata": {},
   "outputs": [
    {
     "name": "stdout",
     "output_type": "stream",
     "text": [
      "Shape of the dataset: (1030, 9)\n"
     ]
    },
    {
     "data": {
      "text/html": [
       "<div>\n",
       "<style scoped>\n",
       "    .dataframe tbody tr th:only-of-type {\n",
       "        vertical-align: middle;\n",
       "    }\n",
       "\n",
       "    .dataframe tbody tr th {\n",
       "        vertical-align: top;\n",
       "    }\n",
       "\n",
       "    .dataframe thead th {\n",
       "        text-align: right;\n",
       "    }\n",
       "</style>\n",
       "<table border=\"1\" class=\"dataframe\">\n",
       "  <thead>\n",
       "    <tr style=\"text-align: right;\">\n",
       "      <th></th>\n",
       "      <th>Cement (component 1)(kg in a m^3 mixture)</th>\n",
       "      <th>Blast Furnace Slag (component 2)(kg in a m^3 mixture)</th>\n",
       "      <th>Fly Ash (component 3)(kg in a m^3 mixture)</th>\n",
       "      <th>Water  (component 4)(kg in a m^3 mixture)</th>\n",
       "      <th>Superplasticizer (component 5)(kg in a m^3 mixture)</th>\n",
       "      <th>Coarse Aggregate  (component 6)(kg in a m^3 mixture)</th>\n",
       "      <th>Fine Aggregate (component 7)(kg in a m^3 mixture)</th>\n",
       "      <th>Age (day)</th>\n",
       "      <th>Concrete compressive strength(MPa, megapascals)</th>\n",
       "    </tr>\n",
       "  </thead>\n",
       "  <tbody>\n",
       "    <tr>\n",
       "      <th>0</th>\n",
       "      <td>540.0</td>\n",
       "      <td>0.0</td>\n",
       "      <td>0.0</td>\n",
       "      <td>162.0</td>\n",
       "      <td>2.5</td>\n",
       "      <td>1040.0</td>\n",
       "      <td>676.0</td>\n",
       "      <td>28</td>\n",
       "      <td>79.99</td>\n",
       "    </tr>\n",
       "    <tr>\n",
       "      <th>1</th>\n",
       "      <td>540.0</td>\n",
       "      <td>0.0</td>\n",
       "      <td>0.0</td>\n",
       "      <td>162.0</td>\n",
       "      <td>2.5</td>\n",
       "      <td>1055.0</td>\n",
       "      <td>676.0</td>\n",
       "      <td>28</td>\n",
       "      <td>61.89</td>\n",
       "    </tr>\n",
       "    <tr>\n",
       "      <th>2</th>\n",
       "      <td>332.5</td>\n",
       "      <td>142.5</td>\n",
       "      <td>0.0</td>\n",
       "      <td>228.0</td>\n",
       "      <td>0.0</td>\n",
       "      <td>932.0</td>\n",
       "      <td>594.0</td>\n",
       "      <td>270</td>\n",
       "      <td>40.27</td>\n",
       "    </tr>\n",
       "    <tr>\n",
       "      <th>3</th>\n",
       "      <td>332.5</td>\n",
       "      <td>142.5</td>\n",
       "      <td>0.0</td>\n",
       "      <td>228.0</td>\n",
       "      <td>0.0</td>\n",
       "      <td>932.0</td>\n",
       "      <td>594.0</td>\n",
       "      <td>365</td>\n",
       "      <td>41.05</td>\n",
       "    </tr>\n",
       "    <tr>\n",
       "      <th>4</th>\n",
       "      <td>198.6</td>\n",
       "      <td>132.4</td>\n",
       "      <td>0.0</td>\n",
       "      <td>192.0</td>\n",
       "      <td>0.0</td>\n",
       "      <td>978.4</td>\n",
       "      <td>825.5</td>\n",
       "      <td>360</td>\n",
       "      <td>44.30</td>\n",
       "    </tr>\n",
       "  </tbody>\n",
       "</table>\n",
       "</div>"
      ],
      "text/plain": [
       "   Cement (component 1)(kg in a m^3 mixture)  \\\n",
       "0                                      540.0   \n",
       "1                                      540.0   \n",
       "2                                      332.5   \n",
       "3                                      332.5   \n",
       "4                                      198.6   \n",
       "\n",
       "   Blast Furnace Slag (component 2)(kg in a m^3 mixture)  \\\n",
       "0                                                0.0       \n",
       "1                                                0.0       \n",
       "2                                              142.5       \n",
       "3                                              142.5       \n",
       "4                                              132.4       \n",
       "\n",
       "   Fly Ash (component 3)(kg in a m^3 mixture)  \\\n",
       "0                                         0.0   \n",
       "1                                         0.0   \n",
       "2                                         0.0   \n",
       "3                                         0.0   \n",
       "4                                         0.0   \n",
       "\n",
       "   Water  (component 4)(kg in a m^3 mixture)  \\\n",
       "0                                      162.0   \n",
       "1                                      162.0   \n",
       "2                                      228.0   \n",
       "3                                      228.0   \n",
       "4                                      192.0   \n",
       "\n",
       "   Superplasticizer (component 5)(kg in a m^3 mixture)  \\\n",
       "0                                                2.5     \n",
       "1                                                2.5     \n",
       "2                                                0.0     \n",
       "3                                                0.0     \n",
       "4                                                0.0     \n",
       "\n",
       "   Coarse Aggregate  (component 6)(kg in a m^3 mixture)  \\\n",
       "0                                             1040.0      \n",
       "1                                             1055.0      \n",
       "2                                              932.0      \n",
       "3                                              932.0      \n",
       "4                                              978.4      \n",
       "\n",
       "   Fine Aggregate (component 7)(kg in a m^3 mixture)  Age (day)  \\\n",
       "0                                              676.0         28   \n",
       "1                                              676.0         28   \n",
       "2                                              594.0        270   \n",
       "3                                              594.0        365   \n",
       "4                                              825.5        360   \n",
       "\n",
       "   Concrete compressive strength(MPa, megapascals)   \n",
       "0                                             79.99  \n",
       "1                                             61.89  \n",
       "2                                             40.27  \n",
       "3                                             41.05  \n",
       "4                                             44.30  "
      ]
     },
     "execution_count": 38,
     "metadata": {},
     "output_type": "execute_result"
    }
   ],
   "source": [
    "# Import pandas\n",
    "import pandas as pd\n",
    "\n",
    "# Load the Concrete_Data.csv dataset\n",
    "data = pd.read_csv(\"Concrete_Data.csv\")\n",
    "\n",
    "# Show shape of the dataset\n",
    "print(\"Shape of the dataset:\", data.shape)\n",
    "\n",
    "# Display first few rows\n",
    "data.head()"
   ]
  },
  {
   "cell_type": "markdown",
   "id": "46f77f1d",
   "metadata": {},
   "source": [
    "### 5.2 Checking Dataset Structure\n",
    "\n",
    "Once a dataset is loaded, the **first step** is to explore its structure:\n",
    "\n",
    "- **`.shape`** → Tells us the number of rows and columns.\n",
    "- **`.head()`** → Shows the first 5 rows to get a quick sense of the data.\n",
    "- **`.columns`** → Lists all feature names.\n",
    "\n",
    "✅ This helps us **understand what features** are available and **how the data looks** before any modeling.\n",
    "\n",
    "---\n"
   ]
  },
  {
   "cell_type": "markdown",
   "id": "68b9ea8f",
   "metadata": {},
   "source": [
    "#### 🖥️ Code Cell 5.2: Exploring Columns"
   ]
  },
  {
   "cell_type": "code",
   "execution_count": 39,
   "id": "c0c15b36",
   "metadata": {},
   "outputs": [
    {
     "name": "stdout",
     "output_type": "stream",
     "text": [
      "Column names:\n",
      "['Cement (component 1)(kg in a m^3 mixture)', 'Blast Furnace Slag (component 2)(kg in a m^3 mixture)', 'Fly Ash (component 3)(kg in a m^3 mixture)', 'Water  (component 4)(kg in a m^3 mixture)', 'Superplasticizer (component 5)(kg in a m^3 mixture)', 'Coarse Aggregate  (component 6)(kg in a m^3 mixture)', 'Fine Aggregate (component 7)(kg in a m^3 mixture)', 'Age (day)', 'Concrete compressive strength(MPa, megapascals) ']\n"
     ]
    }
   ],
   "source": [
    "# Print column names\n",
    "print(\"Column names:\")\n",
    "print(data.columns.tolist())"
   ]
  },
  {
   "cell_type": "markdown",
   "id": "9cd3bf3c",
   "metadata": {},
   "source": [
    "#### 🛠️ Code Task 1.1.5.1\n",
    "\n",
    "✅ Your Task:\n",
    "\n",
    "You are working with the previous dataset stored in a pandas DataFrame named `data`\n",
    "\n",
    "* Store the shape of the dataset in a variable named `dataset_shape`.\n",
    "* Store the list of column names in a variable named `column_names`.\n",
    "\n",
    "🔔 *Hint:* Use `.shape` and `.columns.tolist()` functions.\n",
    "\n",
    "---\n"
   ]
  },
  {
   "cell_type": "code",
   "execution_count": 41,
   "id": "d4346ce2",
   "metadata": {},
   "outputs": [
    {
     "name": "stdout",
     "output_type": "stream",
     "text": [
      "Dataset shape: (1030, 9)\n",
      "Column names: ['Cement (component 1)(kg in a m^3 mixture)', 'Blast Furnace Slag (component 2)(kg in a m^3 mixture)', 'Fly Ash (component 3)(kg in a m^3 mixture)', 'Water  (component 4)(kg in a m^3 mixture)', 'Superplasticizer (component 5)(kg in a m^3 mixture)', 'Coarse Aggregate  (component 6)(kg in a m^3 mixture)', 'Fine Aggregate (component 7)(kg in a m^3 mixture)', 'Age (day)', 'Concrete compressive strength(MPa, megapascals) ']\n"
     ]
    }
   ],
   "source": [
    "# Dataset info\n",
    "dataset_shape =data.shape\n",
    "column_names =data.columns.tolist()\n",
    "\n",
    "# Display results\n",
    "print(\"Dataset shape:\", dataset_shape)\n",
    "print(\"Column names:\", column_names)"
   ]
  },
  {
   "cell_type": "markdown",
   "id": "d7af1001",
   "metadata": {},
   "source": [
    "### 5.3 Checking for Missing Data\n",
    "\n",
    "Before using the dataset to train models, we must **ensure there are no missing values**.\n",
    "\n",
    "🔵 **Why is this important?**\n",
    "- Neural networks expect **complete** data.\n",
    "- Missing values can cause errors or reduce model accuracy.\n",
    "- If missing values exist, we may need to handle them through **imputation** (filling missing values) or **removal**.\n",
    "\n",
    "---\n",
    "\n",
    "✅ Let's check if our Concrete dataset has any missing data!\n",
    "\n",
    "---\n"
   ]
  },
  {
   "cell_type": "markdown",
   "id": "b50ed701",
   "metadata": {},
   "source": [
    "#### 🖥️ Code Cell 5.3: Missing Values Check"
   ]
  },
  {
   "cell_type": "code",
   "execution_count": 42,
   "id": "51c10706",
   "metadata": {},
   "outputs": [
    {
     "name": "stdout",
     "output_type": "stream",
     "text": [
      "Cement (component 1)(kg in a m^3 mixture)                0\n",
      "Blast Furnace Slag (component 2)(kg in a m^3 mixture)    0\n",
      "Fly Ash (component 3)(kg in a m^3 mixture)               0\n",
      "Water  (component 4)(kg in a m^3 mixture)                0\n",
      "Superplasticizer (component 5)(kg in a m^3 mixture)      0\n",
      "Coarse Aggregate  (component 6)(kg in a m^3 mixture)     0\n",
      "Fine Aggregate (component 7)(kg in a m^3 mixture)        0\n",
      "Age (day)                                                0\n",
      "Concrete compressive strength(MPa, megapascals)          0\n",
      "dtype: int64\n"
     ]
    }
   ],
   "source": [
    "# Check for missing values\n",
    "print(data.isnull().sum())"
   ]
  },
  {
   "cell_type": "markdown",
   "id": "61c4cb65",
   "metadata": {},
   "source": [
    "## 6. Concrete Data as Tensors"
   ]
  },
  {
   "cell_type": "markdown",
   "id": "032797a0",
   "metadata": {},
   "source": [
    "### 6.1 Preparing Data for Deep Learning\n",
    "\n",
    "In Deep Learning, models expect inputs and outputs to be represented as **tensors** — not as pandas DataFrames.\n",
    "\n",
    "---\n",
    "\n",
    "🔵 **Why do we need to convert data into tensors?**\n",
    "\n",
    "- **PyTorch models** are built to work with **torch.Tensor** types.\n",
    "- Tensors allow operations like:\n",
    "  - Matrix multiplication\n",
    "  - Gradient calculations\n",
    "  - Automatic differentiation\n",
    "- **Efficiency:**  \n",
    "  Tensors can be processed much faster on **GPUs** compared to plain data structures like lists or pandas DataFrames.\n",
    "\n",
    "---\n",
    "\n",
    "✅ So, we must **split** our data into:\n",
    "- **Inputs:** the 8 material/age features\n",
    "- **Targets:** the concrete compressive strength (what we want to predict)\n",
    "\n",
    "Then we will **convert** them into **torch.Tensor** format!\n",
    "\n",
    "---\n"
   ]
  },
  {
   "cell_type": "markdown",
   "id": "1f515b56",
   "metadata": {},
   "source": [
    "#### 🖥️ Code Cell 6.1: Splitting Inputs and Outputs "
   ]
  },
  {
   "cell_type": "code",
   "execution_count": 43,
   "id": "cd777549",
   "metadata": {},
   "outputs": [
    {
     "name": "stdout",
     "output_type": "stream",
     "text": [
      "Input shape: (1030, 8)\n",
      "Target shape: (1030,)\n"
     ]
    }
   ],
   "source": [
    "# Inputs: all columns except the last one\n",
    "inputs = data.iloc[:, :-1]\n",
    "\n",
    "# Targets: only the last column\n",
    "targets = data.iloc[:, -1]\n",
    "\n",
    "print(\"Input shape:\", inputs.shape)\n",
    "print(\"Target shape:\", targets.shape)\n"
   ]
  },
  {
   "cell_type": "markdown",
   "id": "b7278790",
   "metadata": {},
   "source": [
    "### 6.2 Converting Data to Tensors\n",
    "\n",
    "Now that we have separated **inputs** from **targets**, we will **convert** them to PyTorch tensors.\n",
    "\n",
    "---\n",
    "\n",
    "- The **inputs** should become a tensor of shape:\n",
    "\n",
    "$$\n",
    "(1030, 8)\n",
    "$$\n",
    "\n",
    "*(1030 examples, each with 8 features)*\n",
    "\n",
    "- The **targets** should become a tensor of shape:\n",
    "\n",
    "$$\n",
    "(1030,)\n",
    "$$\n",
    "\n",
    "*(One target value for each example)*\n",
    "\n",
    "---\n",
    "\n",
    "📌 **Note:**  \n",
    "When creating tensors from a NumPy array or DataFrame, we often need to specify:\n",
    "\n",
    "```python\n",
    "dtype=torch.float32\n"
   ]
  },
  {
   "cell_type": "markdown",
   "id": "d25dda7a",
   "metadata": {},
   "source": [
    "#### 🖥️ Code Cell 6.2: Convert to Tensors"
   ]
  },
  {
   "cell_type": "code",
   "execution_count": 44,
   "id": "3bdba14e",
   "metadata": {},
   "outputs": [
    {
     "name": "stdout",
     "output_type": "stream",
     "text": [
      "Inputs Tensor Shape: torch.Size([1030, 8])\n",
      "Targets Tensor Shape: torch.Size([1030])\n"
     ]
    }
   ],
   "source": [
    "import torch\n",
    "\n",
    "# Convert inputs and targets to PyTorch tensors\n",
    "inputs_tensor = torch.tensor(inputs.values, dtype=torch.float32)\n",
    "targets_tensor = torch.tensor(targets.values, dtype=torch.float32)\n",
    "\n",
    "# Check their shapes\n",
    "print(\"Inputs Tensor Shape:\", inputs_tensor.shape)\n",
    "print(\"Targets Tensor Shape:\", targets_tensor.shape)\n"
   ]
  },
  {
   "cell_type": "markdown",
   "id": "ed474348",
   "metadata": {},
   "source": [
    "#### ✍️ Practice Cell 6.1 (Small Exercise)"
   ]
  },
  {
   "cell_type": "markdown",
   "id": "5a4dafbb",
   "metadata": {},
   "source": [
    "#### 🛠️ Code Task 1.1.6.1\n",
    "\n",
    "✅ Your Task:\n",
    "\n",
    "- Create `inputs_100` for the **first 100 rows** of the `input_tensor`.\n",
    "- Create `target_100` for the **first 100 rows** of the `target_tensor`.\n",
    "- Print:\n",
    "  - Shape of the inputs tensor\n",
    "  - Shape of the targets tensor\n",
    "\n",
    "🔔 *Hint:* Use slicing like `inputs_tensor[:100]`.\n"
   ]
  },
  {
   "cell_type": "code",
   "execution_count": 55,
   "id": "c0ba511d",
   "metadata": {},
   "outputs": [
    {
     "name": "stdout",
     "output_type": "stream",
     "text": [
      "Shape of inputs_100: torch.Size([100, 8])\n",
      "Shape of targets_100: torch.Size([100])\n"
     ]
    }
   ],
   "source": [
    "# Slice the first 100 rows\n",
    "inputs_100 =inputs_tensor[:100]\n",
    "targets_100 =targets_tensor[:100]\n",
    "\n",
    "# Print shapes\n",
    "print(\"Shape of inputs_100:\", inputs_100.shape)\n",
    "print(\"Shape of targets_100:\", targets_100.shape)"
   ]
  },
  {
   "cell_type": "markdown",
   "id": "bf6121c1",
   "metadata": {},
   "source": [
    "## 7. Basic Visualization"
   ]
  },
  {
   "cell_type": "markdown",
   "id": "fb1dc360",
   "metadata": {},
   "source": [
    "### 7.1 Importance of Visualization\n",
    "\n",
    "Before building any machine learning model, it is essential to **visualize the data**.  \n",
    "Visualization helps us:\n",
    "\n",
    "🔹 **Spot Trends:**  \n",
    "Identify obvious relationships between variables (e.g., higher cement content might lead to stronger concrete).\n",
    "\n",
    "🔹 **Detect Outliers:**  \n",
    "Find unusual or extreme values that could affect the model training.\n",
    "\n",
    "🔹 **Understand Feature Distributions:**  \n",
    "Know whether features are normally distributed, skewed, or contain strange patterns.\n",
    "\n",
    "---\n",
    "\n",
    "✅ Good visualizations build **intuition** and **guide feature engineering** later on!\n",
    "\n",
    "---\n",
    "**Reference:**  \n",
    "- [Data Visualization for Machine Learning (Towards Data Science article)](https://towardsdatascience.com/why-data-visualization-matters-in-machine-learning-9a65ca92a9cd)\n"
   ]
  },
  {
   "cell_type": "markdown",
   "id": "286efb47",
   "metadata": {},
   "source": [
    "#### 🖥️ Code Cell 7.1: Plot Histogram of Target Variable"
   ]
  },
  {
   "cell_type": "code",
   "execution_count": 56,
   "id": "5456173b",
   "metadata": {},
   "outputs": [
    {
     "data": {
      "image/png": "[encoded data removed]",
      "text/plain": [
       "<Figure size 640x480 with 1 Axes>"
      ]
     },
     "metadata": {},
     "output_type": "display_data"
    }
   ],
   "source": [
    "import matplotlib.pyplot as plt\n",
    "\n",
    "# Plot histogram for the target variable (Concrete Strength)\n",
    "plt.hist(targets, bins=30, edgecolor='k')\n",
    "plt.title('Distribution of Concrete Strength')\n",
    "plt.xlabel('Strength (MPa)')\n",
    "plt.ylabel('Count')\n",
    "plt.show()"
   ]
  },
  {
   "cell_type": "markdown",
   "id": "4ef688d5",
   "metadata": {},
   "source": [
    "### 7.2 Observations from Histogram\n",
    "\n",
    "After visualizing the distribution of **Concrete Strength**, ask yourself:\n",
    "\n",
    "🔵 **Are values clustered or spread out?**\n",
    "- Are most values concentrated in a narrow range (e.g., 20–50 MPa)?  \n",
    "- Or are they widely spread?\n",
    "\n",
    "🔵 **Are there any outliers?**\n",
    "- Do we see extremely high or low strength values compared to the rest?\n",
    "\n",
    "---\n",
    "\n",
    "✅ These observations help you understand the complexity of the prediction task!\n",
    "\n",
    "---\n"
   ]
  },
  {
   "cell_type": "markdown",
   "id": "429a813d",
   "metadata": {},
   "source": [
    "#### ✍️ Practice Cell 7.1 (Small Exercise)"
   ]
  },
  {
   "cell_type": "markdown",
   "id": "1f54d442",
   "metadata": {},
   "source": [
    "#### 🛠️ Code Task 1.1.7.1\n",
    "\n",
    "✅ Your Task:\n",
    "\n",
    "- Plot a **histogram** for the **Water (component 4)** feature.\n",
    "\n",
    "**Steps:**\n",
    "1. Select the 'Water (component 4)(kg in a m^3 mixture)' column from the `inputs` and and store it in a variable named `water_feature`.\n",
    "2. Use `plt.hist()` to plot the histogram.\n",
    "3. Set at least 10 bins and add both `xlabel` and `title`.\n",
    "\n",
    "🔔 *Hint:* Customize the number of bins and add labels/title!\n"
   ]
  },
  {
   "cell_type": "code",
   "execution_count": 70,
   "id": "769e008b-5df1-47e7-8b02-d42ce280a393",
   "metadata": {},
   "outputs": [],
   "source": [
    "water_feature = inputs[\"Water  (component 4)(kg in a m^3 mixture)\"]"
   ]
  },
  {
   "cell_type": "code",
   "execution_count": 78,
   "id": "af446d14-f8f5-4d25-a06f-16ce6fa56a3b",
   "metadata": {},
   "outputs": [
    {
     "data": {
      "image/png": "[encoded data removed]",
      "text/plain": [
       "<Figure size 640x480 with 1 Axes>"
      ]
     },
     "metadata": {},
     "output_type": "display_data"
    }
   ],
   "source": [
    "# Extract the column\n",
    "water_feature = inputs[\"Water  (component 4)(kg in a m^3 mixture)\"]\n",
    "\n",
    "# Plot the histogram\n",
    "plt.hist(water_feature, bins=30, edgecolor='k')\n",
    "plt.title('Distribution of water')\n",
    "plt.xlabel('Water  (component 4)(kg in a m^3 mixture)')\n",
    "plt.ylabel('strength')\n",
    "plt.show()"
   ]
  },
  {
   "cell_type": "markdown",
   "id": "d517f505",
   "metadata": {},
   "source": [
    "### 7.3 Scatterplot — Inputs vs Target\n",
    "\n",
    "Another important visualization is the **scatterplot**.\n",
    "\n",
    "🔵 **What does a scatterplot show?**\n",
    "- Scatterplots allow us to **visually explore the relationship** between an input feature and the target variable.\n",
    "\n",
    "🔵 **Why use scatterplots?**\n",
    "- They can reveal **linear** or **nonlinear** relationships.\n",
    "- They can highlight **clusters**, **trends**, and **outliers**.\n",
    "\n",
    "---\n",
    "\n",
    "✅ In supervised learning, scatterplots often help to **guess how easily a model might predict the target**.\n"
   ]
  },
  {
   "cell_type": "markdown",
   "id": "9f9c3681",
   "metadata": {},
   "source": [
    "#### 🖥️ Code Cell 7.2: Scatterplot Example"
   ]
  },
  {
   "cell_type": "code",
   "execution_count": 74,
   "id": "85bef150",
   "metadata": {},
   "outputs": [
    {
     "data": {
      "image/png": "[encoded data removed]",
      "text/plain": [
       "<Figure size 640x480 with 1 Axes>"
      ]
     },
     "metadata": {},
     "output_type": "display_data"
    }
   ],
   "source": [
    "# Scatterplot: Cement vs Concrete Strength\n",
    "plt.scatter(inputs['Cement (component 1)(kg in a m^3 mixture)'], targets, alpha=0.6)\n",
    "plt.title('Cement vs Concrete Strength')\n",
    "plt.xlabel('Cement (kg/m^3)')\n",
    "plt.ylabel('Strength (MPa)')\n",
    "plt.show()\n"
   ]
  },
  {
   "cell_type": "markdown",
   "id": "3b3d0ef2",
   "metadata": {},
   "source": [
    "## 8 Mini Reflection\n",
    "\n",
    "✅ Reflection Task:\n",
    "\n",
    "Based on the visualizations you created and observed (histograms and scatterplots):\n",
    "\n",
    "- **Which ingredients/features** do you think are the most important for predicting **Concrete Compressive Strength**?\n",
    "- Were there any features that showed a **strong or weak relationship** with strength?\n",
    "\n",
    "---\n",
    "\n",
    "🔔 *Hint:* Think about:\n",
    "- Features where strength increases clearly with the feature.\n",
    "- Features that show scattered/noisy patterns.\n",
    "\n",
    "✅ This type of reflection builds critical thinking about feature importance and helps you develop model intuition later!\n",
    "\n",
    "---\n"
   ]
  },
  {
   "cell_type": "markdown",
   "id": "c8d11b79",
   "metadata": {},
   "source": [
    "## 🎉 Congratulations on Completing Notebook 1! 🎉\n",
    "\n",
    "Amazing work! You have completed the first step of your Deep Learning journey. 🧠✨\n",
    "\n",
    "**Today you have learned:**\n",
    "- What Deep Learning is and its real-world impact.\n",
    "- How tensors (scalars, vectors, matrices, and higher-dimensional arrays) work.\n",
    "- How to perform essential tensor operations in PyTorch.\n",
    "- How to load, inspect, and visualize real-world data.\n",
    "\n",
    "**Coming Up Next:**\n",
    "In the next notebook, we'll start building our **first machine learning model** — a simple **Linear Regression** model — and understand how models learn through **gradient descent**.\n",
    "\n",
    "---\n",
    "\n",
    "✅ Take a short break, reflect on what you've learned, and get ready to dive deeper!\n",
    "\n",
    "---\n"
   ]
  }
 ],
 "metadata": {
  "kernelspec": {
   "display_name": "Python 3 (ipykernel)",
   "language": "python",
   "name": "python3"
  },
  "language_info": {
   "codemirror_mode": {
    "name": "ipython",
    "version": 3
   },
   "file_extension": ".py",
   "mimetype": "text/x-python",
   "name": "python",
   "nbconvert_exporter": "python",
   "pygments_lexer": "ipython3",
   "version": "3.11.0"
  },
  "widgets": {
   "application/vnd.jupyter.widget-state+json": {
    "state": {},
    "version_major": 2,
    "version_minor": 0
   }
  }
 },
 "nbformat": 4,
 "nbformat_minor": 5
}
