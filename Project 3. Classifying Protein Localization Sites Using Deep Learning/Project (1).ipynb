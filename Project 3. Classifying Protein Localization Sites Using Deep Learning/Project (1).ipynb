{
 "cells": [
  {
   "cell_type": "markdown",
   "id": "8b209cc5",
   "metadata": {},
   "source": [
    "## Training a Feedforward Neural Network\n",
    "\n",
    "---"
   ]
  },
  {
   "cell_type": "markdown",
   "id": "0cca9eb0",
   "metadata": {},
   "source": [
    "### **1. Recap and Motivation**\n",
    "\n",
    "\n",
    "In the previous notebook (**NB01: Multiclass Classification Foundations**), we laid the theoretical groundwork for understanding multiclass classification. Here's a quick recap of what we covered:\n",
    "\n",
    "> **What Did We Learn in NB01?**\n",
    "\n",
    "- We explored the **Yeast protein localization dataset**, where the goal is to predict **where a protein is localized inside a cell** (e.g., mitochondria, nucleus, cytoplasm).\n",
    "- We analyzed:\n",
    "  - Feature distributions across classes\n",
    "  - Class imbalance using bar plots\n",
    "  - Correlation structure among features\n",
    "- We introduced key concepts for multiclass classification:\n",
    "  - **Softmax activation**, which turns raw scores (logits) into probability distributions.\n",
    "  - **Cross-entropy loss**, which quantifies the gap between predicted probabilities and the true class.\n",
    "  - **Evaluation metrics** for multiclass settings like accuracy, precision, recall, F1-score, and confusion matrix.\n",
    "\n",
    "> **What Are We Doing in This Notebook?**\n",
    "\n",
    "This notebook focuses on building and training a **feedforward neural network** to solve the multiclass classification task on the **Yeast dataset**.\n",
    "\n",
    "Specifically, we will:\n",
    "\n",
    "1. Prepare the Yeast data for training in PyTorch (splitting, scaling, encoding).\n",
    "2. Define a neural network model using `torch.nn.Sequential`.\n",
    "3. Train the model using cross-entropy loss and an optimizer like Adam.\n",
    "4. Track training progress with a **loss curve**.\n",
    "5. Evaluate model performance using accuracy and confusion matrix.\n",
    "\n",
    ">**Why This Step Is Important**\n",
    "\n",
    "Building the first real model from scratch lets us:\n",
    "\n",
    "- Put all the theory into action.\n",
    "- See how the softmax + cross-entropy combo performs in practice.\n",
    "- Begin thinking about **generalization** — can the model perform well on **unseen test data**?\n",
    "\n",
    "➡️ In the next section, we’ll reload the Yeast dataset and get it ready for training. Let’s begin!\n",
    "\n",
    "---"
   ]
  },
  {
   "cell_type": "code",
   "execution_count": 4,
   "id": "cda74f28-b513-45fc-87b5-92547e9b7975",
   "metadata": {},
   "outputs": [
    {
     "data": {
      "text/html": [
       "\n",
       "        <iframe\n",
       "            width=\"700\"\n",
       "            height=\"450\"\n",
       "            src=\"https://player.vimeo.com/video/1105511968?h=3298dbabb7\"\n",
       "            frameborder=\"0\"\n",
       "            allowfullscreen\n",
       "            \n",
       "        ></iframe>\n",
       "        "
      ],
      "text/plain": [
       "<IPython.lib.display.VimeoVideo at 0x7ea93c1c4690>"
      ]
     },
     "execution_count": 4,
     "metadata": {},
     "output_type": "execute_result"
    }
   ],
   "source": [
    "from IPython.display import VimeoVideo\n",
    "\n",
    "VimeoVideo(\"1105511968\", h=\"3298dbabb7\", width=700, height=450)"
   ]
  },
  {
   "cell_type": "markdown",
   "id": "62bd534a",
   "metadata": {},
   "source": [
    "### **2. Data Preparation**\n",
    "\n",
    "Before we can train a neural network, we need to **prepare our data**:\n",
    "\n",
    "> **Recap of the Dataset**\n",
    "\n",
    "We’re working with the **Yeast dataset**, where:\n",
    "- Each protein sample is described using **8 numerical features** (like `mcg`, `gvh`, `alm`, etc.)\n",
    "- The target label (`localization_site`) is **categorical** with multiple classes such as:\n",
    "  - `MIT` (Mitochondria)\n",
    "  - `NUC` (Nucleus)\n",
    "  - `CYT` (Cytoplasm)\n",
    "  - `ME3`, `EXC`, etc.\n",
    "\n",
    ">**Preparation Steps**\n",
    "\n",
    "We’ll now:\n",
    "1. Load the dataset.\n",
    "2. Encode the target label as **numerical integers** (for PyTorch training).\n",
    "3. Standardize all features using **`StandardScaler`** to zero mean and unit variance.\n",
    "4. Split the dataset into **training and test sets**.\n",
    "5. Convert everything to **PyTorch tensors**.\n",
    "\n",
    ">**Why Standardization Matters**\n",
    "\n",
    "Neural networks learn by adjusting weights based on gradients — changes in the loss with respect to input values. If one feature (say, mcg) ranges from 0 to 1, and another (vac) ranges from 0 to 1000, the network might focus more on the large-scale feature, simply because its values dominate the computation. This can cause:\n",
    "\n",
    "- Unstable gradients: Larger input values may lead to exploding or vanishing gradients during backpropagation.\n",
    "\n",
    "- Slower convergence: The optimizer has to work harder to balance updates across differently scaled features.\n",
    "\n",
    "- Poor performance: The network may get stuck in suboptimal solutions or take longer to generalize well.\n",
    "\n",
    "✅ Standardization brings all features to a similar scale (mean = 0, std = 1), which makes learning smoother, faster, and more reliable — especially when using gradient-based optimizers like SGD or Adam.\n",
    "\n",
    "So, we standardize to bring all features to the same scale.\n",
    "\n",
    "Let’s jump into the code!"
   ]
  },
  {
   "cell_type": "code",
   "execution_count": 5,
   "id": "d17b4d96",
   "metadata": {},
   "outputs": [
    {
     "name": "stdout",
     "output_type": "stream",
     "text": [
      "Train set size: torch.Size([1187, 8])\n",
      "Test set size: torch.Size([297, 8])\n",
      "Number of classes: 10\n"
     ]
    }
   ],
   "source": [
    "import pandas as pd\n",
    "import numpy as np\n",
    "from sklearn.model_selection import train_test_split\n",
    "from sklearn.preprocessing import LabelEncoder, StandardScaler\n",
    "import torch\n",
    "\n",
    "# 1. Load the yeast dataset (already cleaned and merged in NB01)\n",
    "df = pd.read_csv(\"yeast.csv\")  # Replace with your file path if needed\n",
    "\n",
    "# 2. Separate features and target\n",
    "X = df.drop(columns=[\"localization_site\"])\n",
    "y = df[\"localization_site\"]\n",
    "\n",
    "# 3. Encode target labels as integers (e.g., MIT → 0, NUC → 1, etc.)\n",
    "label_encoder = LabelEncoder()\n",
    "y_encoded = label_encoder.fit_transform(y)\n",
    "\n",
    "# 4. Standardize features\n",
    "scaler = StandardScaler()\n",
    "X_scaled = scaler.fit_transform(X)\n",
    "\n",
    "# 5. Train/test split\n",
    "X_train_np, X_test_np, y_train_np, y_test_np = train_test_split(\n",
    "    X_scaled, y_encoded, test_size=0.2, random_state=42, stratify=y_encoded\n",
    ")\n",
    "\n",
    "# 6. Convert to PyTorch tensors\n",
    "X_train = torch.tensor(X_train_np, dtype=torch.float32)\n",
    "X_test = torch.tensor(X_test_np, dtype=torch.float32)\n",
    "y_train = torch.tensor(y_train_np, dtype=torch.long)\n",
    "y_test = torch.tensor(y_test_np, dtype=torch.long)\n",
    "\n",
    "# 7. Check dimensions\n",
    "print(\"Train set size:\", X_train.shape)\n",
    "print(\"Test set size:\", X_test.shape)\n",
    "print(\"Number of classes:\", len(label_encoder.classes_))"
   ]
  },
  {
   "cell_type": "markdown",
   "id": "97365396",
   "metadata": {},
   "source": [
    "**What Did We Do?**\n",
    "\n",
    "- Encoded target labels into integers: essential for PyTorch’s classification loss functions.\n",
    "- Standardized all features: ensures the model trains stably.\n",
    "- Created training and test sets: with **stratified sampling** to preserve class ratios.\n",
    "- Converted everything into **`torch.tensor`** format so we can feed them into the network.\n",
    "\n",
    "📌 Now that our data is ready, it’s time to **define and build our neural network model**!"
   ]
  },
  {
   "cell_type": "markdown",
   "id": "86a97aed-7ae3-4429-a130-85fe4c2d97f2",
   "metadata": {},
   "source": [
    "---"
   ]
  },
  {
   "cell_type": "markdown",
   "id": "e7c40a81-300d-4b95-a99b-3c8b0ac49504",
   "metadata": {},
   "source": [
    "Now you are ready to **answer Multiple Choice Questions 3.2.2.1 - 3.2.2.3**\n",
    "\n",
    "---"
   ]
  },
  {
   "cell_type": "markdown",
   "id": "f6dc9aad-da9b-4710-927d-3deebc378459",
   "metadata": {},
   "source": [
    "**✅ Code Task 3.2.2.1: Check Encoded Labels and Scaled Features**\n",
    "\n",
    "📘 Instruction:\n",
    "Verify that you correctly encoded the labels and scaled the features. Print the shape of the scaled features and the number of unique encoded classes."
   ]
  },
  {
   "cell_type": "code",
   "execution_count": 7,
   "id": "b6d59532-50d1-4fb6-a8f0-50dfbbfbcf1d",
   "metadata": {},
   "outputs": [
    {
     "name": "stdout",
     "output_type": "stream",
     "text": [
      "CT_Scaled feature shape: (1484, 8)\n",
      "CT_Unique encoded classes: 10\n"
     ]
    }
   ],
   "source": [
    "# Task 1 – Encode and Scale\n",
    "import pandas as pd\n",
    "from sklearn.preprocessing import LabelEncoder, StandardScaler\n",
    "\n",
    "CT_df = pd.read_csv(\"yeast.csv\")\n",
    "\n",
    "# Drop target column\n",
    "CT_X = CT_df.drop(columns=[\"localization_site\"])\n",
    "\n",
    "# Extract target column\n",
    "CT_y = CT_df[\"localization_site\"]\n",
    "\n",
    "# Label encode\n",
    "CT_encoder = LabelEncoder()\n",
    "CT_y_encoded = CT_encoder.fit_transform(CT_y)\n",
    "\n",
    "# Standardize features\n",
    "CT_scaler = StandardScaler()\n",
    "CT_X_scaled = CT_scaler.fit_transform(CT_X)\n",
    "\n",
    "# Print output\n",
    "print(\"CT_Scaled feature shape:\",CT_X_scaled.shape)\n",
    "print(\"CT_Unique encoded classes:\",len(label_encoder.classes_))\n"
   ]
  },
  {
   "cell_type": "markdown",
   "id": "5ae9e343-b233-41d4-a33f-b8be1c547876",
   "metadata": {},
   "source": [
    "**✅ Code Task 3.2.2.2: Confirm Tensor Conversion and Train/Test Split**\n",
    "\n",
    "📘 Instruction:\n",
    "Split the dataset and convert your NumPy arrays to PyTorch tensors. Print the shapes of your training features and training labels."
   ]
  },
  {
   "cell_type": "code",
   "execution_count": 9,
   "id": "7af9b4a8-13af-40f1-bc06-c4076bbb96d9",
   "metadata": {},
   "outputs": [
    {
     "name": "stdout",
     "output_type": "stream",
     "text": [
      "CT_X_train shape: torch.Size([1187, 8])\n",
      "CT_y_train shape: torch.Size([1187])\n"
     ]
    }
   ],
   "source": [
    "from sklearn.model_selection import train_test_split\n",
    "import torch\n",
    "\n",
    "# Train-test split\n",
    "CT_X_train_np, CT_X_test_np, CT_y_train_np, CT_y_test_np = train_test_split(\n",
    "    CT_X_scaled, CT_y_encoded, test_size=0.2, random_state=42, stratify=CT_y_encoded\n",
    ")\n",
    "\n",
    "# Convert to PyTorch tensors\n",
    "CT_X_train_tensor = torch.tensor(CT_X_train_np, dtype=torch.float32)\n",
    "CT_y_train_tensor = torch.tensor(CT_y_train_np, dtype=torch.long)\n",
    "\n",
    "# Print shapes\n",
    "print(\"CT_X_train shape:\", CT_X_train_tensor.shape)\n",
    "print(\"CT_y_train shape:\",CT_y_train_tensor.shape)\n"
   ]
  },
  {
   "cell_type": "markdown",
   "id": "413dac3d-3318-40fc-b3e9-a5cf208b85df",
   "metadata": {},
   "source": [
    "---"
   ]
  },
  {
   "cell_type": "markdown",
   "id": "11ea180e",
   "metadata": {},
   "source": [
    "### **3. Model Architecture**\n",
    "\n",
    "**🎯 Goal:** Define a simple feedforward neural network (Multilayer Perceptron) using `torch.nn`.\n",
    "\n",
    "> **What Are We Building?**\n",
    "\n",
    "We’re designing a **Multiclass Classifier** that maps **8 input features** to **10 output classes** (protein localization sites).  \n",
    "We’ll start with a **basic MLP**:\n",
    "\n",
    "- **Input layer**: 8 features  \n",
    "- **Hidden layer**: 16 neurons (ReLU activation)  \n",
    "- **Output layer**: 10 neurons — one per class\n",
    "\n",
    "We use `nn.CrossEntropyLoss`, so the final output layer **must NOT have softmax** — PyTorch applies it internally during loss computation.\n",
    "\n",
    "> **Architecture Summary**\n",
    "\n",
    "- `Input → Linear(8 → 16) → ReLU → Linear(16 → 10)`\n",
    "- Activation: ReLU in the hidden layer\n",
    "- Output layer: Raw logits (passed to CrossEntropyLoss)\n",
    "\n",
    "> **Why This Architecture?**\n",
    "\n",
    "- **ReLU** avoids vanishing gradients and introduces non-linearity.\n",
    "- **16 hidden units** give the model enough capacity without overfitting on this small dataset.\n",
    "- **10 outputs** match the number of target classes in the Yeast dataset.\n",
    "\n",
    "We’ll explore how model complexity affects learning in the next notebook."
   ]
  },
  {
   "cell_type": "code",
   "execution_count": 11,
   "id": "0a63fd74",
   "metadata": {},
   "outputs": [
    {
     "name": "stdout",
     "output_type": "stream",
     "text": [
      "Sequential(\n",
      "  (0): Linear(in_features=8, out_features=16, bias=True)\n",
      "  (1): ReLU()\n",
      "  (2): Linear(in_features=16, out_features=10, bias=True)\n",
      ")\n"
     ]
    }
   ],
   "source": [
    "import torch\n",
    "import torch.nn as nn\n",
    "\n",
    "# Define the model using nn.Sequential\n",
    "model = nn.Sequential(\n",
    "    nn.Linear(8, 16),      # input layer to hidden layer\n",
    "    nn.ReLU(),             # non-linearity\n",
    "    nn.Linear(16, 10)      # hidden layer to output layer (10 classes)\n",
    ")\n",
    "\n",
    "print(model)"
   ]
  },
  {
   "cell_type": "markdown",
   "id": "00139edc",
   "metadata": {},
   "source": [
    "\n",
    "➡️ In the next section, we’ll define the **training loop**: forward pass → loss → backward pass → weight update."
   ]
  },
  {
   "cell_type": "markdown",
   "id": "e8a93c1b-2388-4411-8eac-8212da188595",
   "metadata": {},
   "source": [
    "---"
   ]
  },
  {
   "cell_type": "markdown",
   "id": "3fd9418c-d4c4-46dd-8de9-6fe92c1b313f",
   "metadata": {},
   "source": [
    "Now you are ready to **answer Multiple Choice Question 3.2.3.1**\n",
    "\n",
    "---"
   ]
  },
  {
   "cell_type": "markdown",
   "id": "0399abac-c409-42f0-8919-a1d3c505dc17",
   "metadata": {},
   "source": [
    "**✅ Code Task 3.2.3.1: Build a Simple MLP**\n",
    "\n",
    "📘 Instruction:\n",
    "Create a PyTorch MLP model with one hidden layer of size 32 and ReLU activation. The input dimension is 8 and the output dimension is 10. Print the model architecture."
   ]
  },
  {
   "cell_type": "code",
   "execution_count": 12,
   "id": "47e42d72-232c-477b-a824-41b90d029ed0",
   "metadata": {},
   "outputs": [
    {
     "name": "stdout",
     "output_type": "stream",
     "text": [
      "CT_SimpleMLP(\n",
      "  (model): Sequential(\n",
      "    (0): Linear(in_features=8, out_features=32, bias=True)\n",
      "    (1): ReLU()\n",
      "    (2): Linear(in_features=32, out_features=10, bias=True)\n",
      "  )\n",
      ")\n"
     ]
    }
   ],
   "source": [
    "import torch.nn as nn\n",
    "\n",
    "# Define model class\n",
    "class CT_SimpleMLP(nn.Module):\n",
    "    def __init__(self):\n",
    "        super(CT_SimpleMLP, self).__init__()\n",
    "        self.model = nn.Sequential(\n",
    "            nn.Linear(8,32),\n",
    "            nn.ReLU(),\n",
    "            nn.Linear(32, 10)\n",
    "        )\n",
    "\n",
    "    def forward(self, x):\n",
    "        return self.model(x)\n",
    "\n",
    "# Instantiate model\n",
    "CT_model = CT_SimpleMLP()\n",
    "print(CT_model)\n"
   ]
  },
  {
   "cell_type": "markdown",
   "id": "12944742-e390-4b42-9471-9c7a0e68ba80",
   "metadata": {},
   "source": [
    "---"
   ]
  },
  {
   "cell_type": "markdown",
   "id": "e8784b96",
   "metadata": {},
   "source": [
    "### **4. Training Loop**\n",
    "\n",
    "**🎯 Goal:** Train our MLP model using a standard supervised learning loop in PyTorch.\n",
    "\n",
    ">**The Training Workflow**\n",
    "\n",
    "Training a neural network involves the following cycle for each epoch:\n",
    "\n",
    "1. **Forward Pass**: Compute predicted outputs (`logits`) from the model.\n",
    "2. **Loss Computation**: Compare predictions against the true labels using a loss function.\n",
    "3. **Backward Pass**: Compute gradients of the loss w.r.t. model parameters.\n",
    "4. **Parameter Update**: Adjust the weights using an optimizer like SGD or Adam.\n",
    "5. **Repeat** for multiple epochs to minimize the loss.\n",
    "\n",
    "\n",
    ">Loss Function: `CrossEntropyLoss`\n",
    "\n",
    "For multiclass classification, we use: $$\\text{Loss} = -\\log \\left( \\frac{e^{z_{\\text{true class}}}}{\\sum_j e^{z_j}} \\right)$$\n",
    "\n",
    "- Input: **Raw logits** from model (not softmaxed)\n",
    "- Target: Class indices (e.g., 0–9 for 10 classes)\n",
    "\n",
    ">Optimizer: `torch.optim.Adam`\n",
    "\n",
    "Adam combines momentum and adaptive learning rate for efficient training.  \n",
    "We don’t tune hyperparameters here — we’ll discuss optimizers more deeply in the next notebook.\n",
    "\n",
    ">Training Tips\n",
    "\n",
    "- **Shuffle** the data during training (`DataLoader` helps with this in future notebooks).\n",
    "- Always **zero out gradients** before calling `.backward()`.\n",
    "- Track **training accuracy** along with loss to assess learning progress."
   ]
  },
  {
   "cell_type": "code",
   "execution_count": 14,
   "id": "7e4acaf1",
   "metadata": {},
   "outputs": [
    {
     "name": "stdout",
     "output_type": "stream",
     "text": [
      "Epoch 10: Loss = 1.9002, Accuracy = 37.24%\n",
      "Epoch 20: Loss = 1.4944, Accuracy = 42.63%\n",
      "Epoch 30: Loss = 1.2866, Accuracy = 52.23%\n",
      "Epoch 40: Loss = 1.1722, Accuracy = 56.87%\n",
      "Epoch 50: Loss = 1.1106, Accuracy = 58.72%\n",
      "Epoch 60: Loss = 1.0694, Accuracy = 60.83%\n",
      "Epoch 70: Loss = 1.0424, Accuracy = 60.57%\n",
      "Epoch 80: Loss = 1.0235, Accuracy = 61.67%\n",
      "Epoch 90: Loss = 1.0102, Accuracy = 62.09%\n",
      "Epoch 100: Loss = 0.9998, Accuracy = 62.76%\n",
      "Epoch 110: Loss = 0.9911, Accuracy = 62.93%\n",
      "Epoch 120: Loss = 0.9827, Accuracy = 63.18%\n",
      "Epoch 130: Loss = 0.9746, Accuracy = 63.10%\n",
      "Epoch 140: Loss = 0.9677, Accuracy = 62.93%\n",
      "Epoch 150: Loss = 0.9612, Accuracy = 63.02%\n",
      "Epoch 160: Loss = 0.9552, Accuracy = 62.93%\n",
      "Epoch 170: Loss = 0.9492, Accuracy = 63.27%\n",
      "Epoch 180: Loss = 0.9434, Accuracy = 63.77%\n",
      "Epoch 190: Loss = 0.9380, Accuracy = 63.35%\n",
      "Epoch 200: Loss = 0.9332, Accuracy = 63.86%\n"
     ]
    }
   ],
   "source": [
    "# Loss function and optimizer\n",
    "criterion = nn.CrossEntropyLoss()\n",
    "optimizer = torch.optim.Adam(model.parameters(), lr=0.01)\n",
    "\n",
    "# Training loop\n",
    "epochs = 200\n",
    "train_losses = []\n",
    "train_accuracies = []\n",
    "\n",
    "for epoch in range(epochs):\n",
    "    # Forward pass\n",
    "    logits = model(X_train)\n",
    "    loss = criterion(logits, y_train)\n",
    "    \n",
    "    # Backward pass and optimization\n",
    "    optimizer.zero_grad()\n",
    "    loss.backward()\n",
    "    optimizer.step()\n",
    "    \n",
    "    # Record loss\n",
    "    train_losses.append(loss.item())\n",
    "    \n",
    "    # Compute training accuracy\n",
    "    preds = torch.argmax(logits, dim=1)\n",
    "    correct = (preds == y_train).sum().item()\n",
    "    accuracy = correct / len(y_train)\n",
    "    train_accuracies.append(accuracy)\n",
    "    \n",
    "    # Print every 10 epochs\n",
    "    if (epoch + 1) % 10 == 0:\n",
    "        print(f\"Epoch {epoch+1}: Loss = {loss.item():.4f}, Accuracy = {accuracy*100:.2f}%\")\n"
   ]
  },
  {
   "cell_type": "markdown",
   "id": "653a7d92",
   "metadata": {},
   "source": [
    "➡️ Next, we’ll track loss and accuracy over epochs to better visualize model learning."
   ]
  },
  {
   "cell_type": "markdown",
   "id": "a38fc4ed-519f-4a75-bb88-12cda7d81dc0",
   "metadata": {},
   "source": [
    "---"
   ]
  },
  {
   "cell_type": "markdown",
   "id": "dc169319-971f-488d-90ef-a2be7d65e89c",
   "metadata": {},
   "source": [
    "Now you are ready to **answer Multiple Choice Questions 3.2.4.1 and 3.2.4.2**\n",
    "\n",
    "---"
   ]
  },
  {
   "cell_type": "markdown",
   "id": "aa21c227-02fc-4638-ae3a-ffbf647f1207",
   "metadata": {},
   "source": [
    "**✅ Code Task 3.2.4.1: One Epoch Training**\n",
    "\n",
    "📘 Instruction:\n",
    "Implement a one-epoch training loop on the training set using the model from Task 3. Print the training loss and accuracy."
   ]
  },
  {
   "cell_type": "code",
   "execution_count": 19,
   "id": "6dac95a3-3d72-48e2-8e4d-c4e74f6468d5",
   "metadata": {},
   "outputs": [
    {
     "name": "stdout",
     "output_type": "stream",
     "text": [
      "CT_Train Loss: 2.3494\n",
      "CT_Train Accuracy: 0.0598\n"
     ]
    }
   ],
   "source": [
    "import torch\n",
    "import torch.nn as nn\n",
    "\n",
    "# Loss and optimizer\n",
    "CT_criterion = nn.CrossEntropyLoss()\n",
    "CT_optimizer = torch.optim.Adam(CT_model.parameters(), lr=0.01)\n",
    "\n",
    "# Set model to train mode\n",
    "CT_model.train()\n",
    "\n",
    "# Zero gradients\n",
    "CT_optimizer.zero_grad()\n",
    "\n",
    "# Forward pass\n",
    "CT_logits = CT_model(X_train)\n",
    "\n",
    "# Compute loss\n",
    "CT_loss = CT_criterion(CT_logits, y_train)\n",
    "\n",
    "# Backward pass and update\n",
    "CT_loss.backward()\n",
    "CT_optimizer.step()\n",
    "\n",
    "# Predictions and accuracy\n",
    "CT_preds = torch.argmax(CT_logits, dim=1)\n",
    "CT_correct = (CT_preds == y_train).sum().item()\n",
    "CT_accuracy = CT_correct / len(y_train)\n",
    "\n",
    "# Print metrics\n",
    "print(f\"CT_Train Loss: {CT_loss.item():.4f}\")\n",
    "print(f\"CT_Train Accuracy: {CT_accuracy:.4f}\")\n"
   ]
  },
  {
   "cell_type": "markdown",
   "id": "c7565a15-e9e8-4d38-969b-e97c26e08da4",
   "metadata": {},
   "source": [
    "---"
   ]
  },
  {
   "cell_type": "markdown",
   "id": "8d50b1af",
   "metadata": {},
   "source": [
    "### **5. Track and Plot Training Metrics**\n",
    "\n",
    "**🎯 Goal:** Visualize how our model’s loss and accuracy evolve over training epochs.\n",
    "\n",
    "> Why Plot Training Curves?\n",
    "\n",
    "Monitoring **loss** and **accuracy** over time helps us:\n",
    "\n",
    "- Understand if the model is **learning effectively**.\n",
    "- Detect problems like **underfitting** (loss not decreasing) or **overfitting** (accuracy peaks then drops).\n",
    "- Evaluate the impact of learning rate, architecture, and dataset complexity.\n",
    "\n",
    ">What We’re Tracking?\n",
    "\n",
    "- **Loss**: Measures how far predictions are from true labels. We want it to **decrease**.\n",
    "- **Accuracy**: Percentage of correctly classified samples. We want it to **increase**.\n",
    "\n",
    "These metrics were already recorded in the training loop using `train_losses` and `train_accuracies`.\n",
    "\n",
    ">What We Hope to See\n",
    "\n",
    "- A **smoothly decreasing loss curve**.\n",
    "- An **increasing accuracy curve** that gradually levels off.\n",
    "- No wild oscillations or plateaus — which would suggest learning issues.\n",
    "\n",
    "Let’s plot the metrics!"
   ]
  },
  {
   "cell_type": "code",
   "execution_count": 21,
   "id": "0d36b4dd",
   "metadata": {},
   "outputs": [
    {
     "data": {
      "image/png": "[encoded data removed]",
      "text/plain": [
       "<Figure size 1200x500 with 2 Axes>"
      ]
     },
     "metadata": {},
     "output_type": "display_data"
    }
   ],
   "source": [
    "import matplotlib.pyplot as plt\n",
    "\n",
    "# Plot training loss\n",
    "plt.figure(figsize=(12, 5))\n",
    "\n",
    "plt.subplot(1, 2, 1)\n",
    "plt.plot(range(1, epochs + 1), train_losses, marker='o', linestyle='--')\n",
    "plt.title(\"Training Loss Over Epochs\")\n",
    "plt.xlabel(\"Epoch\")\n",
    "plt.ylabel(\"Loss\")\n",
    "plt.grid(True)\n",
    "\n",
    "# Plot training accuracy\n",
    "plt.subplot(1, 2, 2)\n",
    "plt.plot(range(1, epochs + 1), train_accuracies, marker='s', linestyle='--', color='green')\n",
    "plt.title(\"Training Accuracy Over Epochs\")\n",
    "plt.xlabel(\"Epoch\")\n",
    "plt.ylabel(\"Accuracy\")\n",
    "plt.grid(True)\n",
    "\n",
    "plt.tight_layout()\n",
    "plt.show()\n"
   ]
  },
  {
   "cell_type": "markdown",
   "id": "c3516311",
   "metadata": {},
   "source": [
    ">**Interpreting the Training Curves**\n",
    "\n",
    ">Training Loss Curve (Left Plot)\n",
    "- The loss **decreases steadily**, especially in the early epochs.\n",
    "- After about 100 epochs, it begins to **flatten**, indicating the model is approaching a minimum.\n",
    "- This is a healthy trend — it shows the model is learning and **optimizing its parameters** effectively.\n",
    "\n",
    ">Training Accuracy Curve (Right Plot)\n",
    "- Accuracy **rises quickly** in the first few epochs — a good sign of rapid learning.\n",
    "- It then continues to improve gradually, stabilizing after ~100 epochs.\n",
    "- The final training accuracy is around **65%**, which gives us a baseline before testing on unseen data.\n",
    "\n",
    ">Key Takeaways\n",
    "- The **loss and accuracy curves** tell a **coherent story** — the model is learning and getting better at classification.\n",
    "- There's no clear sign of **overfitting yet**, since we haven't evaluated on the test set — that's coming up next.\n",
    "- The **gap between loss and accuracy** reminds us that minimizing loss doesn't always mean perfect classification — especially in multiclass settings.\n",
    "\n",
    "➡️ In the next section, we’ll evaluate the model’s performance on **unseen test data**, using both accuracy and a confusion matrix to better understand where it performs well (or struggles).\n",
    "\n",
    "---"
   ]
  },
  {
   "cell_type": "markdown",
   "id": "88b87359-0881-487d-b87d-6de81deacdef",
   "metadata": {},
   "source": [
    "Now you are ready to **answer Multiple Choice Question 3.2.5.1**\n",
    "\n",
    "---"
   ]
  },
  {
   "cell_type": "code",
   "execution_count": 22,
   "id": "088c97fb-5702-49ce-affd-ed2ef7ca901c",
   "metadata": {},
   "outputs": [
    {
     "data": {
      "text/html": [
       "\n",
       "        <iframe\n",
       "            width=\"700\"\n",
       "            height=\"450\"\n",
       "            src=\"https://player.vimeo.com/video/1105512049?h=3298dbabb7\"\n",
       "            frameborder=\"0\"\n",
       "            allowfullscreen\n",
       "            \n",
       "        ></iframe>\n",
       "        "
      ],
      "text/plain": [
       "<IPython.lib.display.VimeoVideo at 0x7ea8e4a1f5d0>"
      ]
     },
     "execution_count": 22,
     "metadata": {},
     "output_type": "execute_result"
    }
   ],
   "source": [
    "from IPython.display import VimeoVideo\n",
    "\n",
    "VimeoVideo(\"1105512049\", h=\"3298dbabb7\", width=700, height=450)"
   ]
  },
  {
   "cell_type": "markdown",
   "id": "65d4b267",
   "metadata": {},
   "source": [
    "### **6. Model Evaluation on Test Set**\n",
    "\n",
    "Now that we’ve trained our feedforward neural network on the Yeast dataset,  \n",
    "it’s time to **evaluate how well it generalizes** to unseen data.\n",
    "\n",
    "We’ll measure:\n",
    "\n",
    "- **Overall Accuracy**: Proportion of correct predictions on the test set.\n",
    "- **Confusion Matrix**: A matrix that shows how often each class is predicted correctly or confused with others.\n",
    "- **Per-Class Performance**: Especially important in multiclass settings, where class imbalance can skew overall metrics.\n",
    "\n",
    ">Why Go Beyond Accuracy?\n",
    "\n",
    "In multiclass classification tasks with **unequal class frequencies**, accuracy can be misleading.\n",
    "\n",
    "For example:\n",
    "- If 50% of the data belongs to Class A, a model that predicts “Class A” always will have **50% accuracy** — but that doesn’t mean it learned anything useful.\n",
    "\n",
    "That’s why we also use the **confusion matrix**, which shows us:\n",
    "- Which classes are hardest to predict\n",
    "- Where the model is most confused\n",
    "- Whether rare classes are ignored\n",
    "\n",
    "Let’s now compute these metrics using `scikit-learn`."
   ]
  },
  {
   "cell_type": "code",
   "execution_count": 23,
   "id": "20265d00",
   "metadata": {},
   "outputs": [
    {
     "name": "stdout",
     "output_type": "stream",
     "text": [
      "Test Accuracy: 0.5859\n"
     ]
    },
    {
     "data": {
      "image/png": "[encoded data removed]",
      "text/plain": [
       "<Figure size 1000x800 with 2 Axes>"
      ]
     },
     "metadata": {},
     "output_type": "display_data"
    }
   ],
   "source": [
    "from sklearn.metrics import accuracy_score, confusion_matrix, ConfusionMatrixDisplay\n",
    "import matplotlib.pyplot as plt\n",
    "\n",
    "# ----- Predict on test data -----\n",
    "model.eval()\n",
    "with torch.no_grad():\n",
    "    y_pred_logits = model(X_test)\n",
    "    y_pred_labels = torch.argmax(y_pred_logits, dim=1).cpu().numpy()\n",
    "\n",
    "# ----- Convert ground truth to numpy -----\n",
    "y_test_np = y_test.cpu().numpy()\n",
    "\n",
    "# ----- Accuracy -----\n",
    "acc = accuracy_score(y_test_np, y_pred_labels)\n",
    "print(f\"Test Accuracy: {acc:.4f}\")\n",
    "\n",
    "# ----- Confusion Matrix -----\n",
    "cm = confusion_matrix(y_test_np, y_pred_labels)\n",
    "\n",
    "# Assuming you used LabelEncoder before\n",
    "from sklearn.preprocessing import LabelEncoder\n",
    "\n",
    "# Re-create encoder and fit to original labels if needed\n",
    "encoder = LabelEncoder()\n",
    "encoder.fit(df['localization_site'])  # Ensure same order as before\n",
    "class_names = encoder.classes_\n",
    "\n",
    "# Display with class names\n",
    "disp = ConfusionMatrixDisplay(confusion_matrix=cm, display_labels=class_names)\n",
    "fig, ax = plt.subplots(figsize=(10, 8))\n",
    "disp.plot(ax=ax, cmap='Blues', xticks_rotation=45)\n",
    "plt.title(\"Confusion Matrix on Test Set\")\n",
    "plt.show()\n"
   ]
  },
  {
   "cell_type": "markdown",
   "id": "11e60ef7",
   "metadata": {},
   "source": [
    "Each row represents the **true class**, and each column the **predicted class**.\n",
    "\n",
    "- **Diagonal cells** represent **correct predictions** — higher values here mean the model is more accurate for that class.\n",
    "- **Off-diagonal entries** reflect **misclassifications** — showing which classes are being confused.\n",
    "\n",
    "> Key Observations:\n",
    "\n",
    "- The model is doing **reasonably well** for high-frequency classes like:\n",
    "  - `CYT` (57 correct) and `NUC` (45 correct), although `NUC` shows heavy confusion (37 times predicted as `CYT`).\n",
    "  - `ME3` and `MIT` also have substantial correct predictions.\n",
    "\n",
    "- **Heavy confusion from `NUC` → `CYT`**:  \n",
    "  A large number of `NUC` examples are incorrectly predicted as `CYT`, suggesting possible overlap or bias in learned representations.\n",
    "\n",
    "- **Rare classes** like `POX`, `EXC` have poor performance:\n",
    "  `POX` and `EXC` often misclassified as majority classes.\n",
    "\n",
    "- **Smaller classes** like `ME2`, `ME3` show **mixed** performance with frequent off-diagonal entries.\n",
    "\n",
    ">**What This Tells Us**:\n",
    "\n",
    "- The model is **skewed toward majority classes** — a classic symptom of class imbalance.\n",
    "- While the model has learned useful features (e.g., for `CYT`, `MIT`, `ME3`), it struggles with generalizing to underrepresented classes.\n",
    "\n",
    "➡️ Next, we’ll reflect on class imbalance more explicitly and how it affects model performance."
   ]
  },
  {
   "cell_type": "markdown",
   "id": "e7d71eb0-2760-4e3d-ba05-8ae606c980fa",
   "metadata": {},
   "source": [
    "---"
   ]
  },
  {
   "cell_type": "markdown",
   "id": "2b12fedc-c1e0-4d53-b468-1822cd4bba2f",
   "metadata": {},
   "source": [
    "Now you are ready to **answer Multiple Choice Questions 3.2.6.1 and 3.2.6.2**\n",
    "\n",
    "---"
   ]
  },
  {
   "cell_type": "markdown",
   "id": "94cc2ba2-4ee5-42b0-81eb-28db0bbad13e",
   "metadata": {},
   "source": [
    "**✅ Code Task 3.2.6.1: Test Accuracy Evaluation**\n",
    "\n",
    "📘 Instruction:\n",
    "Evaluate the trained model on the test set. Print the test accuracy."
   ]
  },
  {
   "cell_type": "code",
   "execution_count": 25,
   "id": "abe6fe7c-45a1-48b1-a7f9-2e16bdae394e",
   "metadata": {},
   "outputs": [
    {
     "name": "stdout",
     "output_type": "stream",
     "text": [
      "CT_Test Accuracy: 0.1717\n"
     ]
    }
   ],
   "source": [
    "# Convert test arrays to tensors\n",
    "CT_X_test_tensor = torch.tensor(X_test_np, dtype=torch.float32)\n",
    "CT_y_test_tensor = torch.tensor(y_test_np, dtype=torch.long)\n",
    "\n",
    "# Set model to eval mode\n",
    "CT_model.eval()\n",
    "\n",
    "# Disable gradient tracking\n",
    "with torch.no_grad():\n",
    "    CT_logits_test = CT_model(CT_X_test_tensor)\n",
    "    CT_preds_test = torch.argmax(CT_logits_test, dim=1)\n",
    "\n",
    "# Accuracy\n",
    "CT_test_correct = (CT_preds_test == CT_y_test_tensor).sum().item()\n",
    "CT_test_accuracy = CT_test_correct /len(CT_y_test_tensor)\n",
    "\n",
    "print(f\"CT_Test Accuracy: {CT_test_accuracy:.4f}\")"
   ]
  },
  {
   "cell_type": "markdown",
   "id": "83455949-f94f-451a-999b-483b0c641fa0",
   "metadata": {},
   "source": [
    "---"
   ]
  },
  {
   "cell_type": "markdown",
   "id": "ecd434c3",
   "metadata": {},
   "source": [
    "### **7. Class Imbalance Reflection**\n",
    "\n",
    "In real-world datasets, class distributions are often **not uniform** — some classes may appear far more frequently than others.  \n",
    "This situation is known as **class imbalance**.\n",
    "\n",
    "Let’s revisit our Yeast dataset:\n",
    "\n",
    "- Majority classes: `CYT`, `NUC`, `MIT`\n",
    "- Minority classes: `ERL`, `POX`, `EXC`, `ME1`, `ME2`\n",
    "\n",
    ">Why Does This Matter?\n",
    "\n",
    "When we train a model on an imbalanced dataset:\n",
    "\n",
    "- It tends to **optimize for overall accuracy**, which favors majority classes.\n",
    "- The model may **ignore minority classes** altogether because they don’t contribute much to loss.\n",
    "- Result: **High overall accuracy**, but poor recall for rare categories.\n",
    "\n",
    "> **Intuition**: A model trained on this data may learn:\n",
    "> “It’s safest to guess `CYT` or `NUC` — I’ll be right more often.”\n",
    "\n",
    "This is **not desirable**, especially in **biological applications** where detecting rare categories (e.g., targeting organelles) might be critical.\n",
    "\n",
    ">Metrics Also Mislead\n",
    "\n",
    "- **Accuracy alone** becomes misleading in imbalanced settings.\n",
    "- Instead, we need to examine:\n",
    "  - **Precision**: Are predictions for class A correct?\n",
    "  - **Recall**: Are all actual class A instances detected?\n",
    "  - **F1 Score**: Balance between precision and recall\n",
    "\n",
    "> What Can We Do?\n",
    "\n",
    "There are some **practical strategies** that we can apply (however those are beyond scope of this NB):\n",
    "\n",
    "- **Class weighting**: Penalize errors more for minority classes\n",
    "- **Resampling**: Undersample majority or oversample minority\n",
    "- **Synthetic generation**: e.g., SMOTE or data augmentation\n",
    "- **Model strategies**: Deeper networks or focal loss\n",
    "\n",
    "📌 **Bottom Line**: Class imbalance is a **fundamental modeling challenge**. Ignoring it can lead to **misleading model performance** and poor generalization."
   ]
  },
  {
   "cell_type": "markdown",
   "id": "9a620129-ab07-4cbd-adb6-e5ae4b130d1f",
   "metadata": {},
   "source": [
    "---"
   ]
  },
  {
   "cell_type": "markdown",
   "id": "32233b63-8edd-470a-b8d1-e09365e558e7",
   "metadata": {},
   "source": [
    "Now you are ready to **answer Multiple Choice Question 3.2.7.1!**\n",
    "\n",
    "---"
   ]
  },
  {
   "cell_type": "markdown",
   "id": "e8dbe439",
   "metadata": {},
   "source": [
    "### **8. Wrap-Up and Forward Pointer**\n",
    "\n",
    "In this notebook, we took our first **full modeling step** for a multiclass classification task using the **Yeast protein localization dataset**.\n",
    "\n",
    "We built, trained, and evaluated a basic **Multilayer Perceptron (MLP)** using PyTorch — and explored how it behaves on real-world, imbalanced biological data.\n",
    "\n",
    ">What We Did\n",
    "\n",
    "- Defined a simple MLP architecture with one hidden layer.\n",
    "- Used `CrossEntropyLoss` to handle multiclass outputs (softmax under the hood).\n",
    "- Tracked and plotted **loss** and **accuracy** to monitor training progress.\n",
    "- Evaluated on a test set using **confusion matrix** and **accuracy metrics**.\n",
    "- Reflected on the challenges introduced by **class imbalance**.\n",
    "\n",
    ">Key Takeaways\n",
    "\n",
    "- Even a simple feedforward model can learn **useful patterns**, but struggles with **minority classes**.\n",
    "- **Loss curves** and **accuracy plots** help us monitor learning.\n",
    "- Confusion matrices provide **rich, class-wise diagnostics**.\n",
    "- We must think beyond accuracy — especially with **imbalanced datasets**."
   ]
  },
  {
   "cell_type": "markdown",
   "id": "285aa025-651c-4e86-969f-27c3e3eada89",
   "metadata": {},
   "source": [
    "---"
   ]
  }
 ],
 "metadata": {
  "kernelspec": {
   "display_name": "Python 3 (ipykernel)",
   "language": "python",
   "name": "python3"
  },
  "language_info": {
   "codemirror_mode": {
    "name": "ipython",
    "version": 3
   },
   "file_extension": ".py",
   "mimetype": "text/x-python",
   "name": "python",
   "nbconvert_exporter": "python",
   "pygments_lexer": "ipython3",
   "version": "3.11.0"
  },
  "widgets": {
   "application/vnd.jupyter.widget-state+json": {
    "state": {},
    "version_major": 2,
    "version_minor": 0
   }
  }
 },
 "nbformat": 4,
 "nbformat_minor": 5
}
